{
 "cells": [
  {
   "cell_type": "markdown",
   "id": "be4e56b2",
   "metadata": {},
   "source": [
    "# Data Load"
   ]
  },
  {
   "cell_type": "code",
   "execution_count": 1,
   "id": "58b851a7",
   "metadata": {},
   "outputs": [
    {
     "name": "stdout",
     "output_type": "stream",
     "text": [
      "Unique labels: [0 1]\n",
      "Value counts:\n",
      " label\n",
      "0    53802\n",
      "1    17215\n",
      "Name: count, dtype: int64\n",
      "Unique labels: [0 1]\n",
      "Value counts:\n",
      " label\n",
      "0    602450\n",
      "1    162061\n",
      "Name: count, dtype: int64\n"
     ]
    }
   ],
   "source": [
    "import pandas as pd\n",
    "\n",
    "df = pd.read_csv('../NLME.csv', low_memory=False)\n",
    "unique_labels = df['label'].unique()\n",
    "print(\"Unique labels:\", unique_labels)\n",
    "label_counts = df['label'].value_counts()\n",
    "print(\"Value counts:\\n\", label_counts)\n",
    "\n",
    "df2 = pd.read_csv('../parsed_events (20).csv', low_memory=False)\n",
    "\n",
    "unique_labels = df2['label'].unique()\n",
    "print(\"Unique labels:\", unique_labels)\n",
    "label_counts = df2['label'].value_counts()\n",
    "print(\"Value counts:\\n\", label_counts)"
   ]
  },
  {
   "cell_type": "markdown",
   "id": "1597f02f",
   "metadata": {},
   "source": [
    "# Data Preprocess"
   ]
  },
  {
   "cell_type": "code",
   "execution_count": 2,
   "id": "8954876b",
   "metadata": {},
   "outputs": [],
   "source": [
    "df2.rename(columns={\n",
    "    'target_file_name': 'TargetFilename',\n",
    "    'event_id': 'EventID',\n",
    "    'target_process_guid': 'TargetProcessGuid',\n",
    "    'event_type': 'EventType',\n",
    "    'target_image': 'TargetImage',\n",
    "    'previous_creation_utc_time': 'PreviousCreationUtcTime',\n",
    "    'destination_host_name': 'DestinationHostname',\n",
    "    'company': 'Company',\n",
    "    'description': 'Description',\n",
    "    'product': 'Product',\n",
    "    'integrity_level': 'IntegrityLevel',\n",
    "    'creation_utc_time': 'CreationUtcTime',\n",
    "    'start_function': 'StartFunction',\n",
    "    'parent_process_id': 'ParentProcessGuid',\n",
    "    'user': 'User',\n",
    "    'logon_id': 'LogonId',\n",
    "    'parent_process_id': 'ParentProcessId',\n",
    "    'terminal_session_id': 'TerminalSessionId',\n",
    "    'rule_name': 'RuleName',\n",
    "    'target_object': 'TargetObject',\n",
    "    'parent_process_guid': 'ParentProcessGuid'\n",
    "    }, inplace=True)"
   ]
  },
  {
   "cell_type": "code",
   "execution_count": 3,
   "id": "7f33ec91",
   "metadata": {},
   "outputs": [],
   "source": [
    "important_columns = [\n",
    "    'TargetFilename', \n",
    "    'EventID', \n",
    "    'TargetProcessGuid', \n",
    "    # 'EventType',\n",
    "    'TargetImage', \n",
    "    # 'PreviousCreationUtcTime', \n",
    "    # 'DestinationHostname', \n",
    "    'Company', \n",
    "    'Description',\n",
    "    'Product', \n",
    "    'IntegrityLevel', \n",
    "    # 'CreationUtcTime', \n",
    "    # 'StartFunction', \n",
    "    'ParentProcessGuid', \n",
    "    'User',\n",
    "    'LogonId', \n",
    "    'ParentProcessId', \n",
    "    # 'TerminalSessionId', \n",
    "    # 'RuleName', \n",
    "    # 'TargetObject', \n",
    "    'label'\n",
    "]\n",
    "\n",
    "selected_df = df[important_columns]\n",
    "selected_df2 = df2[important_columns]"
   ]
  },
  {
   "cell_type": "markdown",
   "id": "810c62c5",
   "metadata": {},
   "source": [
    "## Data Split"
   ]
  },
  {
   "cell_type": "code",
   "execution_count": 4,
   "id": "05ec5f3b",
   "metadata": {},
   "outputs": [],
   "source": [
    "import matplotlib.pyplot as plt\n",
    "import seaborn as sns\n",
    "import numpy as np\n",
    "from sklearn.preprocessing import LabelEncoder\n",
    "\n",
    "def clean_and_encode(df):\n",
    "    df = df.replace('-', np.nan)\n",
    "    df = df.dropna(axis=1, how='all').drop_duplicates()\n",
    "    le = LabelEncoder()\n",
    "    filtered = []\n",
    "    for col in df.columns:\n",
    "        if col == 'label':\n",
    "            continue\n",
    "        if df[col].nunique() <= 25 and col != 'label':\n",
    "            filtered.append(col)\n",
    "            mask = df[col].isnull()\n",
    "            df.loc[mask, col] = -1\n",
    "            df.loc[~mask, col] = le.fit_transform(df[col][~mask])\n",
    "        else:\n",
    "            if df[col].dtype == \"object\":\n",
    "                df[col] = df[col].str.len()\n",
    "            df[col] = df[col].fillna(-1)\n",
    "    return df, filtered\n",
    "\n",
    "def preprocess_data_3(df, df2):\n",
    "    df['label'] = df['label'].replace({1: -1, 0: 1})\n",
    "    df2['label'] = df2['label'].replace({1: -1, 0: 1})\n",
    "    df, filteredColumn = clean_and_encode(df)\n",
    "    df2, _ = clean_and_encode(df2)\n",
    "    \n",
    "    benign_df = df[df['label'] == 1]\n",
    "    malware_df = df[df['label'] == -1]\n",
    "    train_df = benign_df.iloc[malware_df.shape[0]:]\n",
    "    test_df = pd.concat([benign_df.iloc[:malware_df.shape[0]], malware_df])\n",
    "\n",
    "    benign_df2 = df2[df2['label'] == 1]\n",
    "    malware_df2 = df2[df2['label'] == -1]\n",
    "    \n",
    "    print(filteredColumn)\n",
    "\n",
    "    train_means = benign_df[filteredColumn].mean()\n",
    "    test_means = benign_df2[filteredColumn].mean()\n",
    "\n",
    "    abs_diff = (train_means - test_means).abs()\n",
    "    df_diff = pd.DataFrame({\n",
    "        \"Train means\": train_means,\n",
    "        \"Test means\": test_means,\n",
    "        \"Diff\": abs_diff\n",
    "    }).sort_values(by=\"Diff\", ascending=False)\n",
    "\n",
    "    plt.figure(figsize=(12, 6))\n",
    "    sns.lineplot(x=range(len(filteredColumn)), y=train_means.values, label=\"Train Benign\")\n",
    "    sns.lineplot(x=range(len(filteredColumn)), y=test_means.values, label=\"Test Benign\")\n",
    "    plt.xticks(range(len(filteredColumn)), filteredColumn, rotation=90)\n",
    "    plt.title(\"Feature Distribution Shift (Benign)\")\n",
    "    plt.tight_layout()\n",
    "    plt.show()\n",
    "\n",
    "    benign_shuffled = benign_df2.sample(frac=1, random_state=42).reset_index(drop=True)\n",
    "    malware_shuffled = malware_df2.sample(frac=1, random_state=123).reset_index(drop=True)  # Different seed\n",
    "    \n",
    "    min_size = min(len(benign_shuffled), len(malware_shuffled))\n",
    "    benign_for_test = benign_shuffled.iloc[:min_size]\n",
    "    malware_for_test = malware_shuffled.iloc[:min_size]\n",
    "    \n",
    "    benign_test_chunks = np.array_split(benign_for_test, 10)\n",
    "    malware_test_chunks = np.array_split(malware_for_test, 10)\n",
    "    \n",
    "    test_df2 = pd.concat([benign_for_test, malware_for_test])\n",
    "    test_chunks = []\n",
    "    for i in range(10):\n",
    "        combined_chunk = pd.concat([benign_test_chunks[i], malware_test_chunks[i]], ignore_index=True)\n",
    "        combined_chunk = combined_chunk.sample(frac=1, random_state=i*10).reset_index(drop=True)\n",
    "        test_chunks.append(combined_chunk)\n",
    "        print(f\"Test chunk {i+1}: {len(combined_chunk)} samples, \"\n",
    "              f\"benign: {len(combined_chunk[combined_chunk['label']==1])}, \"\n",
    "              f\"malware: {len(combined_chunk[combined_chunk['label']==-1])}\")\n",
    "    \n",
    "    remaining_benign = benign_shuffled.iloc[min_size:] if len(benign_shuffled) > min_size else benign_shuffled\n",
    "    \n",
    "    train_chunks = []\n",
    "    for i in range(10):\n",
    "        if len(remaining_benign) > 1000:  # If we have enough data\n",
    "            train_sample = remaining_benign.sample(n=min(len(remaining_benign), 5000), \n",
    "                                                 random_state=i*100, \n",
    "                                                 replace=False).reset_index(drop=True)\n",
    "        else:\n",
    "            train_sample = remaining_benign.sample(n=5000, \n",
    "                                                 random_state=i*100, \n",
    "                                                 replace=True).reset_index(drop=True)\n",
    "        \n",
    "        train_chunks.append(train_sample)\n",
    "        print(f\"Train chunk {i+1}: {len(train_sample)} benign samples\")\n",
    "    \n",
    "    print(\"\\nVerifying chunk diversity:\")\n",
    "    for i in range(min(5, len(train_chunks)-1)):\n",
    "        similarity = len(pd.merge(train_chunks[i], train_chunks[i+1], how='inner')) / len(train_chunks[i])\n",
    "        print(f\"Train chunks {i+1} and {i+2} similarity: {similarity:.2%}\")\n",
    "    \n",
    "    for i in range(min(5, len(test_chunks)-1)):\n",
    "        similarity = len(pd.merge(test_chunks[i], test_chunks[i+1], how='inner')) / len(test_chunks[i])\n",
    "        print(f\"Test chunks {i+1} and {i+2} similarity: {similarity:.2%}\")\n",
    "\n",
    "    return df, train_df, test_df, df2, train_chunks, test_chunks, remaining_benign, pd.concat([benign_df2.iloc[:min_size], malware_df2.iloc[:min_size]])\n"
   ]
  },
  {
   "cell_type": "code",
   "execution_count": 5,
   "id": "2e3ab51f",
   "metadata": {},
   "outputs": [
    {
     "name": "stderr",
     "output_type": "stream",
     "text": [
      "/var/folders/88/psn_rp490gg_sfbw5c2mx3dh0000gn/T/ipykernel_91019/3903420739.py:26: SettingWithCopyWarning: \n",
      "A value is trying to be set on a copy of a slice from a DataFrame.\n",
      "Try using .loc[row_indexer,col_indexer] = value instead\n",
      "\n",
      "See the caveats in the documentation: https://pandas.pydata.org/pandas-docs/stable/user_guide/indexing.html#returning-a-view-versus-a-copy\n",
      "  df['label'] = df['label'].replace({1: -1, 0: 1})\n",
      "/var/folders/88/psn_rp490gg_sfbw5c2mx3dh0000gn/T/ipykernel_91019/3903420739.py:27: SettingWithCopyWarning: \n",
      "A value is trying to be set on a copy of a slice from a DataFrame.\n",
      "Try using .loc[row_indexer,col_indexer] = value instead\n",
      "\n",
      "See the caveats in the documentation: https://pandas.pydata.org/pandas-docs/stable/user_guide/indexing.html#returning-a-view-versus-a-copy\n",
      "  df2['label'] = df2['label'].replace({1: -1, 0: 1})\n"
     ]
    },
    {
     "name": "stdout",
     "output_type": "stream",
     "text": [
      "['EventID', 'TargetImage', 'IntegrityLevel', 'User']\n"
     ]
    },
    {
     "data": {
      "image/png": "[encoded data removed]",
      "text/plain": [
       "<Figure size 1200x600 with 1 Axes>"
      ]
     },
     "metadata": {},
     "output_type": "display_data"
    },
    {
     "name": "stderr",
     "output_type": "stream",
     "text": [
      "/opt/anaconda3/envs/alibidetect/lib/python3.10/site-packages/numpy/core/fromnumeric.py:59: FutureWarning: 'DataFrame.swapaxes' is deprecated and will be removed in a future version. Please use 'DataFrame.transpose' instead.\n",
      "  return bound(*args, **kwds)\n"
     ]
    },
    {
     "name": "stdout",
     "output_type": "stream",
     "text": [
      "Test chunk 1: 13934 samples, benign: 6967, malware: 6967\n",
      "Test chunk 2: 13932 samples, benign: 6966, malware: 6966\n",
      "Test chunk 3: 13932 samples, benign: 6966, malware: 6966\n",
      "Test chunk 4: 13932 samples, benign: 6966, malware: 6966\n",
      "Test chunk 5: 13932 samples, benign: 6966, malware: 6966\n",
      "Test chunk 6: 13932 samples, benign: 6966, malware: 6966\n",
      "Test chunk 7: 13932 samples, benign: 6966, malware: 6966\n",
      "Test chunk 8: 13932 samples, benign: 6966, malware: 6966\n",
      "Test chunk 9: 13932 samples, benign: 6966, malware: 6966\n",
      "Test chunk 10: 13932 samples, benign: 6966, malware: 6966\n",
      "Train chunk 1: 5000 benign samples\n",
      "Train chunk 2: 5000 benign samples\n",
      "Train chunk 3: 5000 benign samples\n",
      "Train chunk 4: 5000 benign samples\n",
      "Train chunk 5: 5000 benign samples\n",
      "Train chunk 6: 5000 benign samples\n",
      "Train chunk 7: 5000 benign samples\n",
      "Train chunk 8: 5000 benign samples\n",
      "Train chunk 9: 5000 benign samples\n",
      "Train chunk 10: 5000 benign samples\n",
      "\n",
      "Verifying chunk diversity:\n",
      "Train chunks 1 and 2 similarity: 267.12%\n",
      "Train chunks 2 and 3 similarity: 304.30%\n",
      "Train chunks 3 and 4 similarity: 279.16%\n",
      "Train chunks 4 and 5 similarity: 270.08%\n",
      "Train chunks 5 and 6 similarity: 282.02%\n",
      "Test chunks 1 and 2 similarity: 18318.32%\n",
      "Test chunks 2 and 3 similarity: 18376.18%\n",
      "Test chunks 3 and 4 similarity: 18777.82%\n",
      "Test chunks 4 and 5 similarity: 18781.07%\n",
      "Test chunks 5 and 6 similarity: 18148.15%\n"
     ]
    }
   ],
   "source": [
    "ndf, train_df, test_df, ndf2, train_chunks, test_chunks, train_df2, test_df2 = preprocess_data_3(selected_df, selected_df2)"
   ]
  },
  {
   "cell_type": "code",
   "execution_count": 8,
   "id": "3abef51c",
   "metadata": {},
   "outputs": [],
   "source": [
    "def count_stats(df, outlier=1, label=1):\n",
    "    tmp = df.apply(lambda x : True if x['outlier'] == outlier and x['label'] == label else False, axis = 1)\n",
    "    return len(tmp[tmp == True].index)\n",
    "\n",
    "def test_model(clf, df):\n",
    "    X_test = df.drop('label', axis=1)\n",
    "    outliers_predicted = clf.predict(X_test)\n",
    "    new_df = df.copy()\n",
    "    new_df['outlier'] = outliers_predicted\n",
    "    tp = count_stats(new_df, outlier=-1, label=-1)\n",
    "    fn = count_stats(new_df, outlier=1, label=-1)\n",
    "    fp = count_stats(new_df, outlier=-1, label=1)\n",
    "    tn = count_stats(new_df, outlier=1, label=1)\n",
    "\n",
    "    recall = tp / (tp + fn)\n",
    "    precision = tp / (tp + fp)\n",
    "    f1 = 2 * (recall * precision) / (precision + recall)\n",
    "    return new_df, recall, precision, f1, tp, fn, fp, tn"
   ]
  },
  {
   "cell_type": "markdown",
   "id": "69bac2ca",
   "metadata": {},
   "source": [
    "# LOF"
   ]
  },
  {
   "cell_type": "markdown",
   "id": "c055c1a2",
   "metadata": {},
   "source": [
    "### PCA"
   ]
  },
  {
   "cell_type": "code",
   "execution_count": 11,
   "id": "ba4b32e1",
   "metadata": {},
   "outputs": [
    {
     "name": "stdout",
     "output_type": "stream",
     "text": [
      "LocalOutlierFactor Parameter Optimization\n",
      "==================================================\n",
      "Starting parameter grid search...\n",
      "Total combinations to test: 36\n",
      "\n",
      "Testing combination 1: {'algorithm': 'auto', 'contamination': 0.2, 'leaf_size': 30, 'n_neighbors': 10, 'novelty': True}\n"
     ]
    },
    {
     "name": "stderr",
     "output_type": "stream",
     "text": [
      "/opt/anaconda3/envs/alibidetect/lib/python3.10/site-packages/sklearn/utils/validation.py:2739: UserWarning: X does not have valid feature names, but LocalOutlierFactor was fitted with feature names\n",
      "  warnings.warn(\n",
      "/opt/anaconda3/envs/alibidetect/lib/python3.10/site-packages/sklearn/utils/validation.py:2739: UserWarning: X does not have valid feature names, but LocalOutlierFactor was fitted with feature names\n",
      "  warnings.warn(\n"
     ]
    },
    {
     "name": "stdout",
     "output_type": "stream",
     "text": [
      "Test1 - Precision: 0.9178, Recall: 0.1283, F1: 0.2251\n",
      "Test2 - Precision: 0.5000, Recall: 1.0000, F1: 0.6667\n",
      "\n",
      "Testing combination 2: {'algorithm': 'auto', 'contamination': 0.2, 'leaf_size': 30, 'n_neighbors': 20, 'novelty': True}\n"
     ]
    },
    {
     "name": "stderr",
     "output_type": "stream",
     "text": [
      "/opt/anaconda3/envs/alibidetect/lib/python3.10/site-packages/sklearn/utils/validation.py:2739: UserWarning: X does not have valid feature names, but LocalOutlierFactor was fitted with feature names\n",
      "  warnings.warn(\n",
      "/opt/anaconda3/envs/alibidetect/lib/python3.10/site-packages/sklearn/utils/validation.py:2739: UserWarning: X does not have valid feature names, but LocalOutlierFactor was fitted with feature names\n",
      "  warnings.warn(\n"
     ]
    },
    {
     "name": "stdout",
     "output_type": "stream",
     "text": [
      "Test1 - Precision: 0.9088, Recall: 0.1760, F1: 0.2948\n",
      "Test2 - Precision: 0.5000, Recall: 1.0000, F1: 0.6667\n",
      "\n",
      "Testing combination 3: {'algorithm': 'auto', 'contamination': 0.2, 'leaf_size': 30, 'n_neighbors': 30, 'novelty': True}\n"
     ]
    },
    {
     "name": "stderr",
     "output_type": "stream",
     "text": [
      "/opt/anaconda3/envs/alibidetect/lib/python3.10/site-packages/sklearn/utils/validation.py:2739: UserWarning: X does not have valid feature names, but LocalOutlierFactor was fitted with feature names\n",
      "  warnings.warn(\n",
      "/opt/anaconda3/envs/alibidetect/lib/python3.10/site-packages/sklearn/utils/validation.py:2739: UserWarning: X does not have valid feature names, but LocalOutlierFactor was fitted with feature names\n",
      "  warnings.warn(\n"
     ]
    },
    {
     "name": "stdout",
     "output_type": "stream",
     "text": [
      "Test1 - Precision: 0.9043, Recall: 0.1789, F1: 0.2988\n",
      "Test2 - Precision: 0.5001, Recall: 0.9999, F1: 0.6667\n",
      "\n",
      "Testing combination 4: {'algorithm': 'auto', 'contamination': 0.2, 'leaf_size': 40, 'n_neighbors': 10, 'novelty': True}\n"
     ]
    },
    {
     "name": "stderr",
     "output_type": "stream",
     "text": [
      "/opt/anaconda3/envs/alibidetect/lib/python3.10/site-packages/sklearn/utils/validation.py:2739: UserWarning: X does not have valid feature names, but LocalOutlierFactor was fitted with feature names\n",
      "  warnings.warn(\n",
      "/opt/anaconda3/envs/alibidetect/lib/python3.10/site-packages/sklearn/utils/validation.py:2739: UserWarning: X does not have valid feature names, but LocalOutlierFactor was fitted with feature names\n",
      "  warnings.warn(\n"
     ]
    },
    {
     "name": "stdout",
     "output_type": "stream",
     "text": [
      "Test1 - Precision: 0.9178, Recall: 0.1283, F1: 0.2251\n",
      "Test2 - Precision: 0.5000, Recall: 1.0000, F1: 0.6667\n",
      "\n",
      "Testing combination 5: {'algorithm': 'auto', 'contamination': 0.2, 'leaf_size': 40, 'n_neighbors': 20, 'novelty': True}\n"
     ]
    },
    {
     "name": "stderr",
     "output_type": "stream",
     "text": [
      "/opt/anaconda3/envs/alibidetect/lib/python3.10/site-packages/sklearn/utils/validation.py:2739: UserWarning: X does not have valid feature names, but LocalOutlierFactor was fitted with feature names\n",
      "  warnings.warn(\n",
      "/opt/anaconda3/envs/alibidetect/lib/python3.10/site-packages/sklearn/utils/validation.py:2739: UserWarning: X does not have valid feature names, but LocalOutlierFactor was fitted with feature names\n",
      "  warnings.warn(\n"
     ]
    },
    {
     "name": "stdout",
     "output_type": "stream",
     "text": [
      "Test1 - Precision: 0.9088, Recall: 0.1760, F1: 0.2948\n",
      "Test2 - Precision: 0.5000, Recall: 1.0000, F1: 0.6667\n",
      "\n",
      "Testing combination 6: {'algorithm': 'auto', 'contamination': 0.2, 'leaf_size': 40, 'n_neighbors': 30, 'novelty': True}\n"
     ]
    },
    {
     "name": "stderr",
     "output_type": "stream",
     "text": [
      "/opt/anaconda3/envs/alibidetect/lib/python3.10/site-packages/sklearn/utils/validation.py:2739: UserWarning: X does not have valid feature names, but LocalOutlierFactor was fitted with feature names\n",
      "  warnings.warn(\n",
      "/opt/anaconda3/envs/alibidetect/lib/python3.10/site-packages/sklearn/utils/validation.py:2739: UserWarning: X does not have valid feature names, but LocalOutlierFactor was fitted with feature names\n",
      "  warnings.warn(\n"
     ]
    },
    {
     "name": "stdout",
     "output_type": "stream",
     "text": [
      "Test1 - Precision: 0.9043, Recall: 0.1789, F1: 0.2988\n",
      "Test2 - Precision: 0.5001, Recall: 0.9999, F1: 0.6667\n",
      "\n",
      "Testing combination 7: {'algorithm': 'auto', 'contamination': 0.3, 'leaf_size': 30, 'n_neighbors': 10, 'novelty': True}\n"
     ]
    },
    {
     "name": "stderr",
     "output_type": "stream",
     "text": [
      "/opt/anaconda3/envs/alibidetect/lib/python3.10/site-packages/sklearn/utils/validation.py:2739: UserWarning: X does not have valid feature names, but LocalOutlierFactor was fitted with feature names\n",
      "  warnings.warn(\n",
      "/opt/anaconda3/envs/alibidetect/lib/python3.10/site-packages/sklearn/utils/validation.py:2739: UserWarning: X does not have valid feature names, but LocalOutlierFactor was fitted with feature names\n",
      "  warnings.warn(\n"
     ]
    },
    {
     "name": "stdout",
     "output_type": "stream",
     "text": [
      "Test1 - Precision: 0.9178, Recall: 0.1283, F1: 0.2251\n",
      "Test2 - Precision: 0.5000, Recall: 1.0000, F1: 0.6667\n",
      "\n",
      "Testing combination 8: {'algorithm': 'auto', 'contamination': 0.3, 'leaf_size': 30, 'n_neighbors': 20, 'novelty': True}\n"
     ]
    },
    {
     "name": "stderr",
     "output_type": "stream",
     "text": [
      "/opt/anaconda3/envs/alibidetect/lib/python3.10/site-packages/sklearn/utils/validation.py:2739: UserWarning: X does not have valid feature names, but LocalOutlierFactor was fitted with feature names\n",
      "  warnings.warn(\n",
      "/opt/anaconda3/envs/alibidetect/lib/python3.10/site-packages/sklearn/utils/validation.py:2739: UserWarning: X does not have valid feature names, but LocalOutlierFactor was fitted with feature names\n",
      "  warnings.warn(\n"
     ]
    },
    {
     "name": "stdout",
     "output_type": "stream",
     "text": [
      "Test1 - Precision: 0.9088, Recall: 0.1760, F1: 0.2948\n",
      "Test2 - Precision: 0.5000, Recall: 1.0000, F1: 0.6667\n",
      "\n",
      "Testing combination 9: {'algorithm': 'auto', 'contamination': 0.3, 'leaf_size': 30, 'n_neighbors': 30, 'novelty': True}\n"
     ]
    },
    {
     "name": "stderr",
     "output_type": "stream",
     "text": [
      "/opt/anaconda3/envs/alibidetect/lib/python3.10/site-packages/sklearn/utils/validation.py:2739: UserWarning: X does not have valid feature names, but LocalOutlierFactor was fitted with feature names\n",
      "  warnings.warn(\n",
      "/opt/anaconda3/envs/alibidetect/lib/python3.10/site-packages/sklearn/utils/validation.py:2739: UserWarning: X does not have valid feature names, but LocalOutlierFactor was fitted with feature names\n",
      "  warnings.warn(\n"
     ]
    },
    {
     "name": "stdout",
     "output_type": "stream",
     "text": [
      "Test1 - Precision: 0.9043, Recall: 0.1789, F1: 0.2988\n",
      "Test2 - Precision: 0.5001, Recall: 0.9999, F1: 0.6667\n",
      "\n",
      "Testing combination 10: {'algorithm': 'auto', 'contamination': 0.3, 'leaf_size': 40, 'n_neighbors': 10, 'novelty': True}\n"
     ]
    },
    {
     "name": "stderr",
     "output_type": "stream",
     "text": [
      "/opt/anaconda3/envs/alibidetect/lib/python3.10/site-packages/sklearn/utils/validation.py:2739: UserWarning: X does not have valid feature names, but LocalOutlierFactor was fitted with feature names\n",
      "  warnings.warn(\n",
      "/opt/anaconda3/envs/alibidetect/lib/python3.10/site-packages/sklearn/utils/validation.py:2739: UserWarning: X does not have valid feature names, but LocalOutlierFactor was fitted with feature names\n",
      "  warnings.warn(\n"
     ]
    },
    {
     "name": "stdout",
     "output_type": "stream",
     "text": [
      "Test1 - Precision: 0.9178, Recall: 0.1283, F1: 0.2251\n",
      "Test2 - Precision: 0.5000, Recall: 1.0000, F1: 0.6667\n",
      "\n",
      "Testing combination 11: {'algorithm': 'auto', 'contamination': 0.3, 'leaf_size': 40, 'n_neighbors': 20, 'novelty': True}\n"
     ]
    },
    {
     "name": "stderr",
     "output_type": "stream",
     "text": [
      "/opt/anaconda3/envs/alibidetect/lib/python3.10/site-packages/sklearn/utils/validation.py:2739: UserWarning: X does not have valid feature names, but LocalOutlierFactor was fitted with feature names\n",
      "  warnings.warn(\n",
      "/opt/anaconda3/envs/alibidetect/lib/python3.10/site-packages/sklearn/utils/validation.py:2739: UserWarning: X does not have valid feature names, but LocalOutlierFactor was fitted with feature names\n",
      "  warnings.warn(\n"
     ]
    },
    {
     "name": "stdout",
     "output_type": "stream",
     "text": [
      "Test1 - Precision: 0.9088, Recall: 0.1760, F1: 0.2948\n",
      "Test2 - Precision: 0.5000, Recall: 1.0000, F1: 0.6667\n",
      "\n",
      "Testing combination 12: {'algorithm': 'auto', 'contamination': 0.3, 'leaf_size': 40, 'n_neighbors': 30, 'novelty': True}\n"
     ]
    },
    {
     "name": "stderr",
     "output_type": "stream",
     "text": [
      "/opt/anaconda3/envs/alibidetect/lib/python3.10/site-packages/sklearn/utils/validation.py:2739: UserWarning: X does not have valid feature names, but LocalOutlierFactor was fitted with feature names\n",
      "  warnings.warn(\n",
      "/opt/anaconda3/envs/alibidetect/lib/python3.10/site-packages/sklearn/utils/validation.py:2739: UserWarning: X does not have valid feature names, but LocalOutlierFactor was fitted with feature names\n",
      "  warnings.warn(\n"
     ]
    },
    {
     "name": "stdout",
     "output_type": "stream",
     "text": [
      "Test1 - Precision: 0.9043, Recall: 0.1789, F1: 0.2988\n",
      "Test2 - Precision: 0.5001, Recall: 0.9999, F1: 0.6667\n",
      "\n",
      "Testing combination 13: {'algorithm': 'auto', 'contamination': 0.4, 'leaf_size': 30, 'n_neighbors': 10, 'novelty': True}\n"
     ]
    },
    {
     "name": "stderr",
     "output_type": "stream",
     "text": [
      "/opt/anaconda3/envs/alibidetect/lib/python3.10/site-packages/sklearn/utils/validation.py:2739: UserWarning: X does not have valid feature names, but LocalOutlierFactor was fitted with feature names\n",
      "  warnings.warn(\n",
      "/opt/anaconda3/envs/alibidetect/lib/python3.10/site-packages/sklearn/utils/validation.py:2739: UserWarning: X does not have valid feature names, but LocalOutlierFactor was fitted with feature names\n",
      "  warnings.warn(\n"
     ]
    },
    {
     "name": "stdout",
     "output_type": "stream",
     "text": [
      "Test1 - Precision: 0.9178, Recall: 0.1283, F1: 0.2251\n",
      "Test2 - Precision: 0.5000, Recall: 1.0000, F1: 0.6667\n",
      "\n",
      "Testing combination 14: {'algorithm': 'auto', 'contamination': 0.4, 'leaf_size': 30, 'n_neighbors': 20, 'novelty': True}\n"
     ]
    },
    {
     "name": "stderr",
     "output_type": "stream",
     "text": [
      "/opt/anaconda3/envs/alibidetect/lib/python3.10/site-packages/sklearn/utils/validation.py:2739: UserWarning: X does not have valid feature names, but LocalOutlierFactor was fitted with feature names\n",
      "  warnings.warn(\n",
      "/opt/anaconda3/envs/alibidetect/lib/python3.10/site-packages/sklearn/utils/validation.py:2739: UserWarning: X does not have valid feature names, but LocalOutlierFactor was fitted with feature names\n",
      "  warnings.warn(\n"
     ]
    },
    {
     "name": "stdout",
     "output_type": "stream",
     "text": [
      "Test1 - Precision: 0.9088, Recall: 0.1760, F1: 0.2948\n",
      "Test2 - Precision: 0.5000, Recall: 1.0000, F1: 0.6667\n",
      "\n",
      "Testing combination 15: {'algorithm': 'auto', 'contamination': 0.4, 'leaf_size': 30, 'n_neighbors': 30, 'novelty': True}\n"
     ]
    },
    {
     "name": "stderr",
     "output_type": "stream",
     "text": [
      "/opt/anaconda3/envs/alibidetect/lib/python3.10/site-packages/sklearn/utils/validation.py:2739: UserWarning: X does not have valid feature names, but LocalOutlierFactor was fitted with feature names\n",
      "  warnings.warn(\n",
      "/opt/anaconda3/envs/alibidetect/lib/python3.10/site-packages/sklearn/utils/validation.py:2739: UserWarning: X does not have valid feature names, but LocalOutlierFactor was fitted with feature names\n",
      "  warnings.warn(\n"
     ]
    },
    {
     "name": "stdout",
     "output_type": "stream",
     "text": [
      "Test1 - Precision: 0.9043, Recall: 0.1789, F1: 0.2988\n",
      "Test2 - Precision: 0.5001, Recall: 0.9999, F1: 0.6667\n",
      "\n",
      "Testing combination 16: {'algorithm': 'auto', 'contamination': 0.4, 'leaf_size': 40, 'n_neighbors': 10, 'novelty': True}\n"
     ]
    },
    {
     "name": "stderr",
     "output_type": "stream",
     "text": [
      "/opt/anaconda3/envs/alibidetect/lib/python3.10/site-packages/sklearn/utils/validation.py:2739: UserWarning: X does not have valid feature names, but LocalOutlierFactor was fitted with feature names\n",
      "  warnings.warn(\n",
      "/opt/anaconda3/envs/alibidetect/lib/python3.10/site-packages/sklearn/utils/validation.py:2739: UserWarning: X does not have valid feature names, but LocalOutlierFactor was fitted with feature names\n",
      "  warnings.warn(\n"
     ]
    },
    {
     "name": "stdout",
     "output_type": "stream",
     "text": [
      "Test1 - Precision: 0.9178, Recall: 0.1283, F1: 0.2251\n",
      "Test2 - Precision: 0.5000, Recall: 1.0000, F1: 0.6667\n",
      "\n",
      "Testing combination 17: {'algorithm': 'auto', 'contamination': 0.4, 'leaf_size': 40, 'n_neighbors': 20, 'novelty': True}\n"
     ]
    },
    {
     "name": "stderr",
     "output_type": "stream",
     "text": [
      "/opt/anaconda3/envs/alibidetect/lib/python3.10/site-packages/sklearn/utils/validation.py:2739: UserWarning: X does not have valid feature names, but LocalOutlierFactor was fitted with feature names\n",
      "  warnings.warn(\n",
      "/opt/anaconda3/envs/alibidetect/lib/python3.10/site-packages/sklearn/utils/validation.py:2739: UserWarning: X does not have valid feature names, but LocalOutlierFactor was fitted with feature names\n",
      "  warnings.warn(\n"
     ]
    },
    {
     "name": "stdout",
     "output_type": "stream",
     "text": [
      "Test1 - Precision: 0.9088, Recall: 0.1760, F1: 0.2948\n",
      "Test2 - Precision: 0.5000, Recall: 1.0000, F1: 0.6667\n",
      "\n",
      "Testing combination 18: {'algorithm': 'auto', 'contamination': 0.4, 'leaf_size': 40, 'n_neighbors': 30, 'novelty': True}\n"
     ]
    },
    {
     "name": "stderr",
     "output_type": "stream",
     "text": [
      "/opt/anaconda3/envs/alibidetect/lib/python3.10/site-packages/sklearn/utils/validation.py:2739: UserWarning: X does not have valid feature names, but LocalOutlierFactor was fitted with feature names\n",
      "  warnings.warn(\n",
      "/opt/anaconda3/envs/alibidetect/lib/python3.10/site-packages/sklearn/utils/validation.py:2739: UserWarning: X does not have valid feature names, but LocalOutlierFactor was fitted with feature names\n",
      "  warnings.warn(\n"
     ]
    },
    {
     "name": "stdout",
     "output_type": "stream",
     "text": [
      "Test1 - Precision: 0.9043, Recall: 0.1789, F1: 0.2988\n",
      "Test2 - Precision: 0.5001, Recall: 0.9999, F1: 0.6667\n",
      "\n",
      "Testing combination 19: {'algorithm': 'kd_tree', 'contamination': 0.2, 'leaf_size': 30, 'n_neighbors': 10, 'novelty': True}\n"
     ]
    },
    {
     "name": "stderr",
     "output_type": "stream",
     "text": [
      "/opt/anaconda3/envs/alibidetect/lib/python3.10/site-packages/sklearn/utils/validation.py:2739: UserWarning: X does not have valid feature names, but LocalOutlierFactor was fitted with feature names\n",
      "  warnings.warn(\n",
      "/opt/anaconda3/envs/alibidetect/lib/python3.10/site-packages/sklearn/utils/validation.py:2739: UserWarning: X does not have valid feature names, but LocalOutlierFactor was fitted with feature names\n",
      "  warnings.warn(\n"
     ]
    },
    {
     "name": "stdout",
     "output_type": "stream",
     "text": [
      "Test1 - Precision: 0.9178, Recall: 0.1283, F1: 0.2251\n",
      "Test2 - Precision: 0.5000, Recall: 1.0000, F1: 0.6667\n",
      "\n",
      "Testing combination 20: {'algorithm': 'kd_tree', 'contamination': 0.2, 'leaf_size': 30, 'n_neighbors': 20, 'novelty': True}\n"
     ]
    },
    {
     "name": "stderr",
     "output_type": "stream",
     "text": [
      "/opt/anaconda3/envs/alibidetect/lib/python3.10/site-packages/sklearn/utils/validation.py:2739: UserWarning: X does not have valid feature names, but LocalOutlierFactor was fitted with feature names\n",
      "  warnings.warn(\n",
      "/opt/anaconda3/envs/alibidetect/lib/python3.10/site-packages/sklearn/utils/validation.py:2739: UserWarning: X does not have valid feature names, but LocalOutlierFactor was fitted with feature names\n",
      "  warnings.warn(\n"
     ]
    },
    {
     "name": "stdout",
     "output_type": "stream",
     "text": [
      "Test1 - Precision: 0.9088, Recall: 0.1760, F1: 0.2948\n",
      "Test2 - Precision: 0.5000, Recall: 1.0000, F1: 0.6667\n",
      "\n",
      "Testing combination 21: {'algorithm': 'kd_tree', 'contamination': 0.2, 'leaf_size': 30, 'n_neighbors': 30, 'novelty': True}\n"
     ]
    },
    {
     "name": "stderr",
     "output_type": "stream",
     "text": [
      "/opt/anaconda3/envs/alibidetect/lib/python3.10/site-packages/sklearn/utils/validation.py:2739: UserWarning: X does not have valid feature names, but LocalOutlierFactor was fitted with feature names\n",
      "  warnings.warn(\n",
      "/opt/anaconda3/envs/alibidetect/lib/python3.10/site-packages/sklearn/utils/validation.py:2739: UserWarning: X does not have valid feature names, but LocalOutlierFactor was fitted with feature names\n",
      "  warnings.warn(\n"
     ]
    },
    {
     "name": "stdout",
     "output_type": "stream",
     "text": [
      "Test1 - Precision: 0.9043, Recall: 0.1789, F1: 0.2988\n",
      "Test2 - Precision: 0.5001, Recall: 0.9999, F1: 0.6667\n",
      "\n",
      "Testing combination 22: {'algorithm': 'kd_tree', 'contamination': 0.2, 'leaf_size': 40, 'n_neighbors': 10, 'novelty': True}\n"
     ]
    },
    {
     "name": "stderr",
     "output_type": "stream",
     "text": [
      "/opt/anaconda3/envs/alibidetect/lib/python3.10/site-packages/sklearn/utils/validation.py:2739: UserWarning: X does not have valid feature names, but LocalOutlierFactor was fitted with feature names\n",
      "  warnings.warn(\n",
      "/opt/anaconda3/envs/alibidetect/lib/python3.10/site-packages/sklearn/utils/validation.py:2739: UserWarning: X does not have valid feature names, but LocalOutlierFactor was fitted with feature names\n",
      "  warnings.warn(\n"
     ]
    },
    {
     "name": "stdout",
     "output_type": "stream",
     "text": [
      "Test1 - Precision: 0.9178, Recall: 0.1283, F1: 0.2251\n",
      "Test2 - Precision: 0.5000, Recall: 1.0000, F1: 0.6667\n",
      "\n",
      "Testing combination 23: {'algorithm': 'kd_tree', 'contamination': 0.2, 'leaf_size': 40, 'n_neighbors': 20, 'novelty': True}\n"
     ]
    },
    {
     "name": "stderr",
     "output_type": "stream",
     "text": [
      "/opt/anaconda3/envs/alibidetect/lib/python3.10/site-packages/sklearn/utils/validation.py:2739: UserWarning: X does not have valid feature names, but LocalOutlierFactor was fitted with feature names\n",
      "  warnings.warn(\n",
      "/opt/anaconda3/envs/alibidetect/lib/python3.10/site-packages/sklearn/utils/validation.py:2739: UserWarning: X does not have valid feature names, but LocalOutlierFactor was fitted with feature names\n",
      "  warnings.warn(\n"
     ]
    },
    {
     "name": "stdout",
     "output_type": "stream",
     "text": [
      "Test1 - Precision: 0.9088, Recall: 0.1760, F1: 0.2948\n",
      "Test2 - Precision: 0.5000, Recall: 1.0000, F1: 0.6667\n",
      "\n",
      "Testing combination 24: {'algorithm': 'kd_tree', 'contamination': 0.2, 'leaf_size': 40, 'n_neighbors': 30, 'novelty': True}\n"
     ]
    },
    {
     "name": "stderr",
     "output_type": "stream",
     "text": [
      "/opt/anaconda3/envs/alibidetect/lib/python3.10/site-packages/sklearn/utils/validation.py:2739: UserWarning: X does not have valid feature names, but LocalOutlierFactor was fitted with feature names\n",
      "  warnings.warn(\n",
      "/opt/anaconda3/envs/alibidetect/lib/python3.10/site-packages/sklearn/utils/validation.py:2739: UserWarning: X does not have valid feature names, but LocalOutlierFactor was fitted with feature names\n",
      "  warnings.warn(\n"
     ]
    },
    {
     "name": "stdout",
     "output_type": "stream",
     "text": [
      "Test1 - Precision: 0.9043, Recall: 0.1789, F1: 0.2988\n",
      "Test2 - Precision: 0.5001, Recall: 0.9999, F1: 0.6667\n",
      "\n",
      "Testing combination 25: {'algorithm': 'kd_tree', 'contamination': 0.3, 'leaf_size': 30, 'n_neighbors': 10, 'novelty': True}\n"
     ]
    },
    {
     "name": "stderr",
     "output_type": "stream",
     "text": [
      "/opt/anaconda3/envs/alibidetect/lib/python3.10/site-packages/sklearn/utils/validation.py:2739: UserWarning: X does not have valid feature names, but LocalOutlierFactor was fitted with feature names\n",
      "  warnings.warn(\n",
      "/opt/anaconda3/envs/alibidetect/lib/python3.10/site-packages/sklearn/utils/validation.py:2739: UserWarning: X does not have valid feature names, but LocalOutlierFactor was fitted with feature names\n",
      "  warnings.warn(\n"
     ]
    },
    {
     "name": "stdout",
     "output_type": "stream",
     "text": [
      "Test1 - Precision: 0.9178, Recall: 0.1283, F1: 0.2251\n",
      "Test2 - Precision: 0.5000, Recall: 1.0000, F1: 0.6667\n",
      "\n",
      "Testing combination 26: {'algorithm': 'kd_tree', 'contamination': 0.3, 'leaf_size': 30, 'n_neighbors': 20, 'novelty': True}\n"
     ]
    },
    {
     "name": "stderr",
     "output_type": "stream",
     "text": [
      "/opt/anaconda3/envs/alibidetect/lib/python3.10/site-packages/sklearn/utils/validation.py:2739: UserWarning: X does not have valid feature names, but LocalOutlierFactor was fitted with feature names\n",
      "  warnings.warn(\n",
      "/opt/anaconda3/envs/alibidetect/lib/python3.10/site-packages/sklearn/utils/validation.py:2739: UserWarning: X does not have valid feature names, but LocalOutlierFactor was fitted with feature names\n",
      "  warnings.warn(\n"
     ]
    },
    {
     "name": "stdout",
     "output_type": "stream",
     "text": [
      "Test1 - Precision: 0.9088, Recall: 0.1760, F1: 0.2948\n",
      "Test2 - Precision: 0.5000, Recall: 1.0000, F1: 0.6667\n",
      "\n",
      "Testing combination 27: {'algorithm': 'kd_tree', 'contamination': 0.3, 'leaf_size': 30, 'n_neighbors': 30, 'novelty': True}\n"
     ]
    },
    {
     "name": "stderr",
     "output_type": "stream",
     "text": [
      "/opt/anaconda3/envs/alibidetect/lib/python3.10/site-packages/sklearn/utils/validation.py:2739: UserWarning: X does not have valid feature names, but LocalOutlierFactor was fitted with feature names\n",
      "  warnings.warn(\n",
      "/opt/anaconda3/envs/alibidetect/lib/python3.10/site-packages/sklearn/utils/validation.py:2739: UserWarning: X does not have valid feature names, but LocalOutlierFactor was fitted with feature names\n",
      "  warnings.warn(\n"
     ]
    },
    {
     "name": "stdout",
     "output_type": "stream",
     "text": [
      "Test1 - Precision: 0.9043, Recall: 0.1789, F1: 0.2988\n",
      "Test2 - Precision: 0.5001, Recall: 0.9999, F1: 0.6667\n",
      "\n",
      "Testing combination 28: {'algorithm': 'kd_tree', 'contamination': 0.3, 'leaf_size': 40, 'n_neighbors': 10, 'novelty': True}\n"
     ]
    },
    {
     "name": "stderr",
     "output_type": "stream",
     "text": [
      "/opt/anaconda3/envs/alibidetect/lib/python3.10/site-packages/sklearn/utils/validation.py:2739: UserWarning: X does not have valid feature names, but LocalOutlierFactor was fitted with feature names\n",
      "  warnings.warn(\n",
      "/opt/anaconda3/envs/alibidetect/lib/python3.10/site-packages/sklearn/utils/validation.py:2739: UserWarning: X does not have valid feature names, but LocalOutlierFactor was fitted with feature names\n",
      "  warnings.warn(\n"
     ]
    },
    {
     "name": "stdout",
     "output_type": "stream",
     "text": [
      "Test1 - Precision: 0.9178, Recall: 0.1283, F1: 0.2251\n",
      "Test2 - Precision: 0.5000, Recall: 1.0000, F1: 0.6667\n",
      "\n",
      "Testing combination 29: {'algorithm': 'kd_tree', 'contamination': 0.3, 'leaf_size': 40, 'n_neighbors': 20, 'novelty': True}\n"
     ]
    },
    {
     "name": "stderr",
     "output_type": "stream",
     "text": [
      "/opt/anaconda3/envs/alibidetect/lib/python3.10/site-packages/sklearn/utils/validation.py:2739: UserWarning: X does not have valid feature names, but LocalOutlierFactor was fitted with feature names\n",
      "  warnings.warn(\n",
      "/opt/anaconda3/envs/alibidetect/lib/python3.10/site-packages/sklearn/utils/validation.py:2739: UserWarning: X does not have valid feature names, but LocalOutlierFactor was fitted with feature names\n",
      "  warnings.warn(\n"
     ]
    },
    {
     "name": "stdout",
     "output_type": "stream",
     "text": [
      "Test1 - Precision: 0.9088, Recall: 0.1760, F1: 0.2948\n",
      "Test2 - Precision: 0.5000, Recall: 1.0000, F1: 0.6667\n",
      "\n",
      "Testing combination 30: {'algorithm': 'kd_tree', 'contamination': 0.3, 'leaf_size': 40, 'n_neighbors': 30, 'novelty': True}\n"
     ]
    },
    {
     "name": "stderr",
     "output_type": "stream",
     "text": [
      "/opt/anaconda3/envs/alibidetect/lib/python3.10/site-packages/sklearn/utils/validation.py:2739: UserWarning: X does not have valid feature names, but LocalOutlierFactor was fitted with feature names\n",
      "  warnings.warn(\n",
      "/opt/anaconda3/envs/alibidetect/lib/python3.10/site-packages/sklearn/utils/validation.py:2739: UserWarning: X does not have valid feature names, but LocalOutlierFactor was fitted with feature names\n",
      "  warnings.warn(\n"
     ]
    },
    {
     "name": "stdout",
     "output_type": "stream",
     "text": [
      "Test1 - Precision: 0.9043, Recall: 0.1789, F1: 0.2988\n",
      "Test2 - Precision: 0.5001, Recall: 0.9999, F1: 0.6667\n",
      "\n",
      "Testing combination 31: {'algorithm': 'kd_tree', 'contamination': 0.4, 'leaf_size': 30, 'n_neighbors': 10, 'novelty': True}\n"
     ]
    },
    {
     "name": "stderr",
     "output_type": "stream",
     "text": [
      "/opt/anaconda3/envs/alibidetect/lib/python3.10/site-packages/sklearn/utils/validation.py:2739: UserWarning: X does not have valid feature names, but LocalOutlierFactor was fitted with feature names\n",
      "  warnings.warn(\n",
      "/opt/anaconda3/envs/alibidetect/lib/python3.10/site-packages/sklearn/utils/validation.py:2739: UserWarning: X does not have valid feature names, but LocalOutlierFactor was fitted with feature names\n",
      "  warnings.warn(\n"
     ]
    },
    {
     "name": "stdout",
     "output_type": "stream",
     "text": [
      "Test1 - Precision: 0.9178, Recall: 0.1283, F1: 0.2251\n",
      "Test2 - Precision: 0.5000, Recall: 1.0000, F1: 0.6667\n",
      "\n",
      "Testing combination 32: {'algorithm': 'kd_tree', 'contamination': 0.4, 'leaf_size': 30, 'n_neighbors': 20, 'novelty': True}\n"
     ]
    },
    {
     "name": "stderr",
     "output_type": "stream",
     "text": [
      "/opt/anaconda3/envs/alibidetect/lib/python3.10/site-packages/sklearn/utils/validation.py:2739: UserWarning: X does not have valid feature names, but LocalOutlierFactor was fitted with feature names\n",
      "  warnings.warn(\n",
      "/opt/anaconda3/envs/alibidetect/lib/python3.10/site-packages/sklearn/utils/validation.py:2739: UserWarning: X does not have valid feature names, but LocalOutlierFactor was fitted with feature names\n",
      "  warnings.warn(\n"
     ]
    },
    {
     "name": "stdout",
     "output_type": "stream",
     "text": [
      "Test1 - Precision: 0.9088, Recall: 0.1760, F1: 0.2948\n",
      "Test2 - Precision: 0.5000, Recall: 1.0000, F1: 0.6667\n",
      "\n",
      "Testing combination 33: {'algorithm': 'kd_tree', 'contamination': 0.4, 'leaf_size': 30, 'n_neighbors': 30, 'novelty': True}\n"
     ]
    },
    {
     "name": "stderr",
     "output_type": "stream",
     "text": [
      "/opt/anaconda3/envs/alibidetect/lib/python3.10/site-packages/sklearn/utils/validation.py:2739: UserWarning: X does not have valid feature names, but LocalOutlierFactor was fitted with feature names\n",
      "  warnings.warn(\n",
      "/opt/anaconda3/envs/alibidetect/lib/python3.10/site-packages/sklearn/utils/validation.py:2739: UserWarning: X does not have valid feature names, but LocalOutlierFactor was fitted with feature names\n",
      "  warnings.warn(\n"
     ]
    },
    {
     "name": "stdout",
     "output_type": "stream",
     "text": [
      "Test1 - Precision: 0.9043, Recall: 0.1789, F1: 0.2988\n",
      "Test2 - Precision: 0.5001, Recall: 0.9999, F1: 0.6667\n",
      "\n",
      "Testing combination 34: {'algorithm': 'kd_tree', 'contamination': 0.4, 'leaf_size': 40, 'n_neighbors': 10, 'novelty': True}\n"
     ]
    },
    {
     "name": "stderr",
     "output_type": "stream",
     "text": [
      "/opt/anaconda3/envs/alibidetect/lib/python3.10/site-packages/sklearn/utils/validation.py:2739: UserWarning: X does not have valid feature names, but LocalOutlierFactor was fitted with feature names\n",
      "  warnings.warn(\n",
      "/opt/anaconda3/envs/alibidetect/lib/python3.10/site-packages/sklearn/utils/validation.py:2739: UserWarning: X does not have valid feature names, but LocalOutlierFactor was fitted with feature names\n",
      "  warnings.warn(\n"
     ]
    },
    {
     "name": "stdout",
     "output_type": "stream",
     "text": [
      "Test1 - Precision: 0.9178, Recall: 0.1283, F1: 0.2251\n",
      "Test2 - Precision: 0.5000, Recall: 1.0000, F1: 0.6667\n",
      "\n",
      "Testing combination 35: {'algorithm': 'kd_tree', 'contamination': 0.4, 'leaf_size': 40, 'n_neighbors': 20, 'novelty': True}\n"
     ]
    },
    {
     "name": "stderr",
     "output_type": "stream",
     "text": [
      "/opt/anaconda3/envs/alibidetect/lib/python3.10/site-packages/sklearn/utils/validation.py:2739: UserWarning: X does not have valid feature names, but LocalOutlierFactor was fitted with feature names\n",
      "  warnings.warn(\n",
      "/opt/anaconda3/envs/alibidetect/lib/python3.10/site-packages/sklearn/utils/validation.py:2739: UserWarning: X does not have valid feature names, but LocalOutlierFactor was fitted with feature names\n",
      "  warnings.warn(\n"
     ]
    },
    {
     "name": "stdout",
     "output_type": "stream",
     "text": [
      "Test1 - Precision: 0.9088, Recall: 0.1760, F1: 0.2948\n",
      "Test2 - Precision: 0.5000, Recall: 1.0000, F1: 0.6667\n",
      "\n",
      "Testing combination 36: {'algorithm': 'kd_tree', 'contamination': 0.4, 'leaf_size': 40, 'n_neighbors': 30, 'novelty': True}\n"
     ]
    },
    {
     "name": "stderr",
     "output_type": "stream",
     "text": [
      "/opt/anaconda3/envs/alibidetect/lib/python3.10/site-packages/sklearn/utils/validation.py:2739: UserWarning: X does not have valid feature names, but LocalOutlierFactor was fitted with feature names\n",
      "  warnings.warn(\n",
      "/opt/anaconda3/envs/alibidetect/lib/python3.10/site-packages/sklearn/utils/validation.py:2739: UserWarning: X does not have valid feature names, but LocalOutlierFactor was fitted with feature names\n",
      "  warnings.warn(\n"
     ]
    },
    {
     "name": "stdout",
     "output_type": "stream",
     "text": [
      "Test1 - Precision: 0.9043, Recall: 0.1789, F1: 0.2988\n",
      "Test2 - Precision: 0.5001, Recall: 0.9999, F1: 0.6667\n",
      "\n",
      "================================================================================\n",
      "PARAMETER ANALYSIS RESULTS\n",
      "================================================================================\n",
      "\n",
      "BEST OVERALL PARAMETERS (Highest Average F1: 0.4827):\n",
      "------------------------------------------------------------\n",
      "algorithm: auto\n",
      "contamination: 0.2\n",
      "leaf_size: 30\n",
      "n_neighbors: 30\n",
      "novelty: True\n",
      "\n",
      "Performance:\n",
      "Test1 - Precision: 0.9043, Recall: 0.1789, F1: 0.2988\n",
      "Test2 - Precision: 0.5001, Recall: 0.9999, F1: 0.6667\n",
      "Training time: 1.2020s\n",
      "\n",
      "TOP 5 PARAMETER COMBINATIONS:\n",
      "------------------------------------------------------------\n",
      "\n",
      "1. F1: 0.4827\n",
      "   n_neighbors: 30, algorithm: auto\n",
      "   leaf_size: 30, contamination: 0.2\n",
      "\n",
      "2. F1: 0.4827\n",
      "   n_neighbors: 30, algorithm: auto\n",
      "   leaf_size: 40, contamination: 0.2\n",
      "\n",
      "3. F1: 0.4827\n",
      "   n_neighbors: 30, algorithm: auto\n",
      "   leaf_size: 30, contamination: 0.3\n",
      "\n",
      "4. F1: 0.4827\n",
      "   n_neighbors: 30, algorithm: auto\n",
      "   leaf_size: 40, contamination: 0.3\n",
      "\n",
      "5. F1: 0.4827\n",
      "   n_neighbors: 30, algorithm: auto\n",
      "   leaf_size: 30, contamination: 0.4\n",
      "\n",
      "PARAMETER IMPACT ANALYSIS:\n",
      "------------------------------------------------------------\n",
      "\n",
      "N_NEIGHBORS:\n",
      "  10: Mean F1=0.4459 (±0.0000), Count=12.0\n",
      "  20: Mean F1=0.4807 (±0.0000), Count=12.0\n",
      "  30: Mean F1=0.4827 (±0.0000), Count=12.0\n",
      "\n",
      "ALGORITHM:\n",
      "  auto: Mean F1=0.4698 (±0.0174), Count=18.0\n",
      "  kd_tree: Mean F1=0.4698 (±0.0174), Count=18.0\n",
      "\n",
      "LEAF_SIZE:\n",
      "  30: Mean F1=0.4698 (±0.0174), Count=18.0\n",
      "  40: Mean F1=0.4698 (±0.0174), Count=18.0\n",
      "\n",
      "CONTAMINATION:\n",
      "  0.2: Mean F1=0.4698 (±0.0177), Count=12.0\n",
      "  0.3: Mean F1=0.4698 (±0.0177), Count=12.0\n",
      "  0.4: Mean F1=0.4698 (±0.0177), Count=12.0\n",
      "\n",
      "================================================================================\n",
      "TRAINING FINAL MODEL WITH BEST PARAMETERS\n",
      "================================================================================\n",
      "Best model saved as 'lof_optimized.joblib'\n",
      "PARAMETER SUGGESTIONS BY DATASET TYPE:\n",
      "==================================================\n",
      "\n",
      "SMALL DATASETS:\n",
      "  n_neighbors: [5, 10, 15]\n",
      "  algorithm: auto\n",
      "  leaf_size: 30\n",
      "  contamination: 0.1\n",
      "  novelty: True\n",
      "\n",
      "MEDIUM DATASETS:\n",
      "  n_neighbors: [15, 20, 25]\n",
      "  algorithm: kd_tree\n",
      "  leaf_size: 30\n",
      "  contamination: 0.2\n",
      "  novelty: True\n",
      "\n",
      "LARGE DATASETS:\n",
      "  n_neighbors: [20, 30, 40]\n",
      "  algorithm: kd_tree\n",
      "  leaf_size: 40\n",
      "  contamination: 0.3\n",
      "  novelty: True\n",
      "\n",
      "HIGH DIMENSIONAL:\n",
      "  n_neighbors: [10, 15, 20]\n",
      "  algorithm: brute\n",
      "  leaf_size: 20\n",
      "  contamination: 0.2\n",
      "  novelty: True\n",
      "\n",
      "TEST COMBINATIONS FOR MANUAL EVALUATION:\n",
      "--------------------------------------------------\n",
      "1. {'n_neighbors': 20, 'algorithm': 'auto', 'leaf_size': 30, 'contamination': 0.2, 'novelty': True}\n",
      "2. {'n_neighbors': 15, 'algorithm': 'kd_tree', 'leaf_size': 40, 'contamination': 0.3, 'novelty': True}\n",
      "3. {'n_neighbors': 25, 'algorithm': 'ball_tree', 'leaf_size': 20, 'contamination': 0.1, 'novelty': True}\n"
     ]
    }
   ],
   "source": [
    "import time\n",
    "import numpy as np\n",
    "from sklearn.neighbors import LocalOutlierFactor\n",
    "from sklearn.model_selection import ParameterGrid\n",
    "import joblib\n",
    "import pandas as pd\n",
    "\n",
    "def test_model_wrapper(model, test_data):\n",
    "    \"\"\"\n",
    "    Wrapper function for your existing test_model function\n",
    "    Replace this with your actual test_model implementation\n",
    "    \"\"\"\n",
    "    # Assuming test_model returns (predictions, recall, precision, f1)\n",
    "    # You'll need to replace this with your actual test_model function\n",
    "    pass\n",
    "\n",
    "def evaluate_lof_parameters(train_df, test_df, test_df2=None):\n",
    "    \"\"\"\n",
    "    Comprehensive parameter selection for LocalOutlierFactor\n",
    "    \"\"\"\n",
    "    \n",
    "    # Define parameter grid for testing\n",
    "    param_grid = {\n",
    "        'n_neighbors': [5, 10, 15, 20, 25, 30, 35, 40],\n",
    "        'algorithm': ['auto', 'ball_tree', 'kd_tree', 'brute'],\n",
    "        'leaf_size': [20, 30, 40, 50],\n",
    "        'contamination': [0.1, 0.2, 0.3, 0.4, 0.5],\n",
    "        'novelty': [True]  # Keep True for your use case\n",
    "    }\n",
    "    \n",
    "    # For quick testing, use a smaller grid\n",
    "    quick_param_grid = {\n",
    "        'n_neighbors': [10, 20, 30],\n",
    "        'algorithm': ['auto', 'kd_tree'],\n",
    "        'leaf_size': [30, 40],\n",
    "        'contamination': [0.2, 0.3, 0.4],\n",
    "        'novelty': [True]\n",
    "    }\n",
    "    \n",
    "    X_train = train_df.drop('label', axis=1)\n",
    "    results = []\n",
    "    \n",
    "    print(\"Starting parameter grid search...\")\n",
    "    print(f\"Total combinations to test: {len(list(ParameterGrid(quick_param_grid)))}\")\n",
    "    \n",
    "    for i, params in enumerate(ParameterGrid(quick_param_grid)):\n",
    "        try:\n",
    "            print(f\"\\nTesting combination {i+1}: {params}\")\n",
    "            \n",
    "            # Create and train model\n",
    "            start_train = time.time()\n",
    "            lof = LocalOutlierFactor(**params)\n",
    "            lof.fit(X_train)\n",
    "            train_time = time.time() - start_train\n",
    "            \n",
    "            # Test on first dataset\n",
    "            start_test1 = time.time()\n",
    "            _, recall_1, precision_1, f1_1 = test_model(lof, test_df)\n",
    "            test1_time = time.time() - start_test1\n",
    "            \n",
    "            # Test on second dataset if provided\n",
    "            if test_df2 is not None:\n",
    "                start_test2 = time.time()\n",
    "                _, recall_2, precision_2, f1_2 = test_model(lof, test_df2)\n",
    "                test2_time = time.time() - start_test2\n",
    "            else:\n",
    "                recall_2 = precision_2 = f1_2 = test2_time = 0\n",
    "            \n",
    "            # Store results\n",
    "            result = {\n",
    "                'params': params,\n",
    "                'train_time': train_time,\n",
    "                'test1_precision': precision_1,\n",
    "                'test1_recall': recall_1,\n",
    "                'test1_f1': f1_1,\n",
    "                'test1_time': test1_time,\n",
    "                'test2_precision': precision_2,\n",
    "                'test2_recall': recall_2,\n",
    "                'test2_f1': f1_2,\n",
    "                'test2_time': test2_time,\n",
    "                'avg_f1': (f1_1 + f1_2) / 2 if test_df2 is not None else f1_1\n",
    "            }\n",
    "            results.append(result)\n",
    "            \n",
    "            print(f\"Test1 - Precision: {precision_1:.4f}, Recall: {recall_1:.4f}, F1: {f1_1:.4f}\")\n",
    "            if test_df2 is not None:\n",
    "                print(f\"Test2 - Precision: {precision_2:.4f}, Recall: {recall_2:.4f}, F1: {f1_2:.4f}\")\n",
    "            \n",
    "        except Exception as e:\n",
    "            print(f\"Error with params {params}: {str(e)}\")\n",
    "            continue\n",
    "    \n",
    "    return results\n",
    "\n",
    "def analyze_results(results):\n",
    "    \"\"\"\n",
    "    Analyze and display the best parameter combinations\n",
    "    \"\"\"\n",
    "    if not results:\n",
    "        print(\"No results to analyze!\")\n",
    "        return None\n",
    "    \n",
    "    # Convert to DataFrame for easier analysis\n",
    "    df_results = []\n",
    "    for result in results:\n",
    "        row = result['params'].copy()\n",
    "        row.update({k: v for k, v in result.items() if k != 'params'})\n",
    "        df_results.append(row)\n",
    "    \n",
    "    df = pd.DataFrame(df_results)\n",
    "    \n",
    "    print(\"\\n\" + \"=\"*80)\n",
    "    print(\"PARAMETER ANALYSIS RESULTS\")\n",
    "    print(\"=\"*80)\n",
    "    \n",
    "    # Best overall F1 score\n",
    "    best_idx = df['avg_f1'].idxmax()\n",
    "    best_result = results[best_idx]\n",
    "    \n",
    "    print(f\"\\nBEST OVERALL PARAMETERS (Highest Average F1: {best_result['avg_f1']:.4f}):\")\n",
    "    print(\"-\" * 60)\n",
    "    for param, value in best_result['params'].items():\n",
    "        print(f\"{param}: {value}\")\n",
    "    \n",
    "    print(f\"\\nPerformance:\")\n",
    "    print(f\"Test1 - Precision: {best_result['test1_precision']:.4f}, Recall: {best_result['test1_recall']:.4f}, F1: {best_result['test1_f1']:.4f}\")\n",
    "    print(f\"Test2 - Precision: {best_result['test2_precision']:.4f}, Recall: {best_result['test2_recall']:.4f}, F1: {best_result['test2_f1']:.4f}\")\n",
    "    print(f\"Training time: {best_result['train_time']:.4f}s\")\n",
    "    \n",
    "    # Top 5 combinations\n",
    "    print(f\"\\nTOP 5 PARAMETER COMBINATIONS:\")\n",
    "    print(\"-\" * 60)\n",
    "    top_5 = df.nlargest(5, 'avg_f1')\n",
    "    for i, (idx, row) in enumerate(top_5.iterrows()):\n",
    "        print(f\"\\n{i+1}. F1: {row['avg_f1']:.4f}\")\n",
    "        print(f\"   n_neighbors: {row['n_neighbors']}, algorithm: {row['algorithm']}\")\n",
    "        print(f\"   leaf_size: {row['leaf_size']}, contamination: {row['contamination']}\")\n",
    "    \n",
    "    # Parameter impact analysis\n",
    "    print(f\"\\nPARAMETER IMPACT ANALYSIS:\")\n",
    "    print(\"-\" * 60)\n",
    "    \n",
    "    for param in ['n_neighbors', 'algorithm', 'leaf_size', 'contamination']:\n",
    "        if param in df.columns:\n",
    "            param_analysis = df.groupby(param)['avg_f1'].agg(['mean', 'std', 'count'])\n",
    "            print(f\"\\n{param.upper()}:\")\n",
    "            for value, stats in param_analysis.iterrows():\n",
    "                print(f\"  {value}: Mean F1={stats['mean']:.4f} (±{stats['std']:.4f}), Count={stats['count']}\")\n",
    "    \n",
    "    return best_result\n",
    "\n",
    "# Main execution function\n",
    "def optimize_lof_parameters(train_df, test_df, test_df2=None):\n",
    "    \"\"\"\n",
    "    Main function to optimize LOF parameters\n",
    "    \"\"\"\n",
    "    print(\"LocalOutlierFactor Parameter Optimization\")\n",
    "    print(\"=\"*50)\n",
    "    \n",
    "    # Run parameter search\n",
    "    results = evaluate_lof_parameters(train_df, test_df, test_df2)\n",
    "    \n",
    "    # Analyze results\n",
    "    best_params = analyze_results(results)\n",
    "    \n",
    "    if best_params:\n",
    "        # Train final model with best parameters\n",
    "        print(f\"\\n\" + \"=\"*80)\n",
    "        print(\"TRAINING FINAL MODEL WITH BEST PARAMETERS\")\n",
    "        print(\"=\"*80)\n",
    "        \n",
    "        X_train = train_df.drop('label', axis=1)\n",
    "        final_lof = LocalOutlierFactor(**best_params['params'])\n",
    "        final_lof.fit(X_train)\n",
    "        \n",
    "        # Save the best model\n",
    "        joblib.dump(final_lof, 'lof_optimized.joblib')\n",
    "        print(\"Best model saved as 'lof_optimized.joblib'\")\n",
    "        \n",
    "        return final_lof, best_params\n",
    "    \n",
    "    return None, None\n",
    "\n",
    "# Alternative: Quick parameter suggestions based on common practices\n",
    "def get_parameter_suggestions():\n",
    "    \"\"\"\n",
    "    Returns suggested parameter combinations based on common practices\n",
    "    \"\"\"\n",
    "    suggestions = {\n",
    "        'small_datasets': {\n",
    "            'n_neighbors': [5, 10, 15],\n",
    "            'algorithm': 'auto',\n",
    "            'leaf_size': 30,\n",
    "            'contamination': 0.1,\n",
    "            'novelty': True\n",
    "        },\n",
    "        'medium_datasets': {\n",
    "            'n_neighbors': [15, 20, 25],\n",
    "            'algorithm': 'kd_tree',\n",
    "            'leaf_size': 30,\n",
    "            'contamination': 0.2,\n",
    "            'novelty': True\n",
    "        },\n",
    "        'large_datasets': {\n",
    "            'n_neighbors': [20, 30, 40],\n",
    "            'algorithm': 'kd_tree',\n",
    "            'leaf_size': 40,\n",
    "            'contamination': 0.3,\n",
    "            'novelty': True\n",
    "        },\n",
    "        'high_dimensional': {\n",
    "            'n_neighbors': [10, 15, 20],\n",
    "            'algorithm': 'brute',\n",
    "            'leaf_size': 20,\n",
    "            'contamination': 0.2,\n",
    "            'novelty': True\n",
    "        }\n",
    "    }\n",
    "    \n",
    "    print(\"PARAMETER SUGGESTIONS BY DATASET TYPE:\")\n",
    "    print(\"=\"*50)\n",
    "    for dataset_type, params in suggestions.items():\n",
    "        print(f\"\\n{dataset_type.upper().replace('_', ' ')}:\")\n",
    "        for param, value in params.items():\n",
    "            print(f\"  {param}: {value}\")\n",
    "    \n",
    "    return suggestions\n",
    "\n",
    "# Example usage:\n",
    "if __name__ == \"__main__\":\n",
    "    # Method 1: Full grid search (recommended)\n",
    "    final_model, best_params = optimize_lof_parameters(train_df, test_df, test_df2)\n",
    "    \n",
    "    # Method 2: Quick parameter suggestions\n",
    "    suggestions = get_parameter_suggestions()\n",
    "    \n",
    "    # Method 3: Manual testing with specific combinations\n",
    "    test_combinations = [\n",
    "        {'n_neighbors': 20, 'algorithm': 'auto', 'leaf_size': 30, 'contamination': 0.2, 'novelty': True},\n",
    "        {'n_neighbors': 15, 'algorithm': 'kd_tree', 'leaf_size': 40, 'contamination': 0.3, 'novelty': True},\n",
    "        {'n_neighbors': 25, 'algorithm': 'ball_tree', 'leaf_size': 20, 'contamination': 0.1, 'novelty': True},\n",
    "    ]\n",
    "    \n",
    "    print(f\"\\nTEST COMBINATIONS FOR MANUAL EVALUATION:\")\n",
    "    print(\"-\" * 50)\n",
    "    for i, combo in enumerate(test_combinations, 1):\n",
    "        print(f\"{i}. {combo}\")"
   ]
  },
  {
   "cell_type": "markdown",
   "id": "31c94011",
   "metadata": {},
   "source": [
    "### Real LOF"
   ]
  },
  {
   "cell_type": "code",
   "execution_count": 10,
   "id": "db94dbf8",
   "metadata": {},
   "outputs": [
    {
     "name": "stderr",
     "output_type": "stream",
     "text": [
      "/opt/anaconda3/envs/alibidetect/lib/python3.10/site-packages/sklearn/utils/validation.py:2739: UserWarning: X does not have valid feature names, but LocalOutlierFactor was fitted with feature names\n",
      "  warnings.warn(\n"
     ]
    },
    {
     "name": "stdout",
     "output_type": "stream",
     "text": [
      "Data training:\n",
      "Precision: 0.8209, Recall: 0.7402, F1-score: 0.7785\n",
      "Time execution: 0.24866580963134766\n"
     ]
    },
    {
     "name": "stderr",
     "output_type": "stream",
     "text": [
      "/opt/anaconda3/envs/alibidetect/lib/python3.10/site-packages/sklearn/utils/validation.py:2739: UserWarning: X does not have valid feature names, but LocalOutlierFactor was fitted with feature names\n",
      "  warnings.warn(\n"
     ]
    },
    {
     "name": "stdout",
     "output_type": "stream",
     "text": [
      "Data testing:\n",
      "Precision: 0.5000, Recall: 1.0000, F1-score: 0.6667\n",
      "Time execution: 2.8143258094787598\n"
     ]
    },
    {
     "data": {
      "image/png": "[encoded data removed]",
      "text/plain": [
       "<Figure size 1200x500 with 4 Axes>"
      ]
     },
     "metadata": {},
     "output_type": "display_data"
    }
   ],
   "source": [
    "import time\n",
    "from sklearn.neighbors import LocalOutlierFactor\n",
    "import joblib\n",
    "\n",
    "\n",
    "lof = LocalOutlierFactor(n_neighbors=30, algorithm='auto', leaf_size=30, contamination=0.2, novelty=True)\n",
    "# lof = LocalOutlierFactor(n_neighbors=5, algorithm='kd_tree', leaf_size=30, contamination=0.4, novelty=True)\n",
    "X_train = train_df.drop('label', axis=1)\n",
    "lof.fit(X_train)\n",
    "joblib.dump(lof, 'lof.joblib')\n",
    "\n",
    "iso = joblib.load('lof.joblib')\n",
    "\n",
    "start = time.time()\n",
    "_, recall, precision, f1, tp, fn, fp, tn  = test_model(iso, test_df)\n",
    "end = time.time()\n",
    "elapsed = end-start\n",
    "\n",
    "print('Data training:')\n",
    "print(f\"Precision: {precision:.4f}, Recall: {recall:.4f}, F1-score: {f1:.4f}\")\n",
    "print(f\"Time execution: {elapsed}\")\n",
    "\n",
    "start = time.time()\n",
    "_, recall_2, precision_2, f1_2, tp_2, fn_2, fp_2, tn_2 = test_model(iso, test_df2)\n",
    "end = time.time()\n",
    "elapsed = end-start\n",
    "\n",
    "print('Data testing:')\n",
    "print(f\"Precision: {precision_2:.4f}, Recall: {recall_2:.4f}, F1-score: {f1_2:.4f}\")\n",
    "print(f\"Time execution: {elapsed}\")\n",
    "\n",
    "conf_matrix = pd.DataFrame(\n",
    "    [[tp, fn],\n",
    "    [fp, tn]],\n",
    "    columns=['Actual outlier', 'Actual inlier'],\n",
    "    index=['Predicted outlier', 'Predicted inlier']\n",
    ")\n",
    "\n",
    "conf_matrix_2 = pd.DataFrame(\n",
    "    [[tp_2, fn_2],\n",
    "    [fp_2, tn_2]],\n",
    "    columns=['Actual outlier', 'Actual inlier'],\n",
    "    index=['Predicted outlier', 'Predicted inlier']\n",
    ")\n",
    "\n",
    "fig, axs = plt.subplots(1, 2, figsize=(12, 5))\n",
    "sns.heatmap(conf_matrix, annot=True, fmt='d', cmap='grey_r', ax=axs[0])\n",
    "axs[0].set_title(\"Confusion Matrix Control\")\n",
    "sns.heatmap(conf_matrix_2, annot=True, fmt='d', cmap='grey_r', ax=axs[1])\n",
    "axs[1].set_title(\"Confusion Matrix Treatment\")\n",
    "\n",
    "plt.tight_layout()\n",
    "# plt.savefig(\"comparison_heatmaps.png\")\n",
    "plt.show()"
   ]
  },
  {
   "cell_type": "markdown",
   "id": "e289e17d",
   "metadata": {},
   "source": [
    "# Retraining"
   ]
  },
  {
   "cell_type": "markdown",
   "id": "975b6a7d",
   "metadata": {},
   "source": [
    "### a. Concat old + new data (50:50)"
   ]
  },
  {
   "cell_type": "code",
   "execution_count": 11,
   "id": "c8a62ca0",
   "metadata": {},
   "outputs": [
    {
     "data": {
      "text/plain": [
       "['lofretrain.joblib']"
      ]
     },
     "execution_count": 11,
     "metadata": {},
     "output_type": "execute_result"
    }
   ],
   "source": [
    "retrain_df = pd.concat([train_df2.iloc[:train_df.shape[0], :], train_df])\n",
    "lof = LocalOutlierFactor(n_neighbors=30, algorithm='auto', leaf_size=30, contamination=0.2, novelty=True)\n",
    "X_train = retrain_df.drop('label', axis=1)\n",
    "lof.fit(X_train)\n",
    "joblib.dump(lof, 'lofretrain.joblib')"
   ]
  },
  {
   "cell_type": "code",
   "execution_count": 12,
   "id": "e790cbef",
   "metadata": {},
   "outputs": [
    {
     "name": "stderr",
     "output_type": "stream",
     "text": [
      "/opt/anaconda3/envs/alibidetect/lib/python3.10/site-packages/sklearn/utils/validation.py:2739: UserWarning: X does not have valid feature names, but LocalOutlierFactor was fitted with feature names\n",
      "  warnings.warn(\n"
     ]
    },
    {
     "name": "stdout",
     "output_type": "stream",
     "text": [
      "Data training:\n",
      "Precision: 0.8551, Recall: 0.6051, F1-score: 0.7087\n",
      "Time execution: 0.291597843170166\n"
     ]
    },
    {
     "name": "stderr",
     "output_type": "stream",
     "text": [
      "/opt/anaconda3/envs/alibidetect/lib/python3.10/site-packages/sklearn/utils/validation.py:2739: UserWarning: X does not have valid feature names, but LocalOutlierFactor was fitted with feature names\n",
      "  warnings.warn(\n"
     ]
    },
    {
     "name": "stdout",
     "output_type": "stream",
     "text": [
      "Data testing:\n",
      "Precision: 0.6926, Recall: 0.6630, F1-score: 0.6775\n",
      "Time execution: 3.019426107406616\n"
     ]
    },
    {
     "data": {
      "image/png": "[encoded data removed]",
      "text/plain": [
       "<Figure size 1200x500 with 4 Axes>"
      ]
     },
     "metadata": {},
     "output_type": "display_data"
    }
   ],
   "source": [
    "lof = joblib.load('lofretrain.joblib')\n",
    "\n",
    "start = time.time()\n",
    "_, recall, precision, f1, tp, fn, fp, tn = test_model(lof, test_df)\n",
    "end = time.time()\n",
    "elapsed = end-start\n",
    "\n",
    "print('Data training:')\n",
    "print(f\"Precision: {precision:.4f}, Recall: {recall:.4f}, F1-score: {f1:.4f}\")\n",
    "print(f\"Time execution: {elapsed}\")\n",
    "\n",
    "start = time.time()\n",
    "_, recall_2, precision_2, f1_2, tp_2, fn_2, fp_2, tn_2 = test_model(lof, test_df2)\n",
    "end = time.time()\n",
    "elapsed = end-start\n",
    "print('Data testing:')\n",
    "print(f\"Precision: {precision_2:.4f}, Recall: {recall_2:.4f}, F1-score: {f1_2:.4f}\")\n",
    "print(f\"Time execution: {elapsed}\")\n",
    "\n",
    "conf_matrix = pd.DataFrame(\n",
    "    [[tp, fn],\n",
    "    [fp, tn]],\n",
    "    columns=['Actual outlier', 'Actual inlier'],\n",
    "    index=['Predicted outlier', 'Predicted inlier']\n",
    ")\n",
    "\n",
    "conf_matrix_2 = pd.DataFrame(\n",
    "    [[tp_2, fn_2],\n",
    "    [fp_2, tn_2]],\n",
    "    columns=['Actual outlier', 'Actual inlier'],\n",
    "    index=['Predicted outlier', 'Predicted inlier']\n",
    ")\n",
    "\n",
    "fig, axs = plt.subplots(1, 2, figsize=(12, 5))\n",
    "sns.heatmap(conf_matrix, annot=True, fmt='d', cmap='grey_r', ax=axs[0])\n",
    "axs[0].set_title(\"Confusion Matrix Control\")\n",
    "sns.heatmap(conf_matrix_2, annot=True, fmt='d', cmap='grey_r', ax=axs[1])\n",
    "axs[1].set_title(\"Confusion Matrix Treatment\")\n",
    "\n",
    "plt.tight_layout()\n",
    "plt.show()"
   ]
  },
  {
   "cell_type": "markdown",
   "id": "6c928966",
   "metadata": {},
   "source": [
    "### b. Full model replacement with new data"
   ]
  },
  {
   "cell_type": "code",
   "execution_count": 13,
   "id": "5436477a",
   "metadata": {},
   "outputs": [
    {
     "name": "stderr",
     "output_type": "stream",
     "text": [
      "/opt/anaconda3/envs/alibidetect/lib/python3.10/site-packages/sklearn/utils/validation.py:2739: UserWarning: X does not have valid feature names, but LocalOutlierFactor was fitted with feature names\n",
      "  warnings.warn(\n"
     ]
    },
    {
     "name": "stdout",
     "output_type": "stream",
     "text": [
      "Data testing:\n",
      "Precision: 0.6749722878210999, Recall: 0.40209012216304674, F1-score: 0.5039627920366322\n",
      "Time execution: 2.9871888160705566\n"
     ]
    },
    {
     "data": {
      "image/png": "[encoded data removed]",
      "text/plain": [
       "<Figure size 640x480 with 2 Axes>"
      ]
     },
     "metadata": {},
     "output_type": "display_data"
    }
   ],
   "source": [
    "lof = LocalOutlierFactor(n_neighbors=30, algorithm='auto', leaf_size=30, contamination=0.2, novelty=True)\n",
    "X_train = train_df2.drop('label', axis=1)\n",
    "lof.fit(X_train)\n",
    "joblib.dump(lof, 'lof2.joblib')\n",
    "\n",
    "lof = joblib.load('lof2.joblib')\n",
    "start = time.time()\n",
    "_, recall_2, precision_2, f1_2, tp_2, fn_2, fp_2, tn_2 = test_model(lof, test_df2)\n",
    "end = time.time()\n",
    "elapsed = end-start\n",
    "\n",
    "print('Data testing:')\n",
    "print(f\"Precision: {precision_2}, Recall: {recall_2}, F1-score: {f1_2}\")\n",
    "print(f\"Time execution: {elapsed}\")\n",
    "\n",
    "conf_matrix_2 = pd.DataFrame(\n",
    "    [[tp_2, fn_2],\n",
    "    [fp_2, tn_2]],\n",
    "    columns=['Actual outlier', 'Actual inlier'],\n",
    "    index=['Predicted outlier', 'Predicted inlier']\n",
    ")\n",
    "\n",
    "fig, axs= plt.subplots()\n",
    "sns.heatmap(conf_matrix_2, annot=True, fmt='d', cmap='grey_r', ax=axs)\n",
    "axs.set_title(\"Confusion Matrix Treatment\")\n",
    "# sns.heatmap(conf_matrix_2, annot=True, fmt='d', cmap='grey_r', ax=axs[1])\n",
    "# axs[1].set_title(\"Confusion Matrix Treatment\")\n",
    "\n",
    "plt.tight_layout()\n",
    "plt.show()"
   ]
  },
  {
   "cell_type": "markdown",
   "id": "42262a00",
   "metadata": {},
   "source": [
    "### Continuous retraining"
   ]
  },
  {
   "cell_type": "code",
   "execution_count": 13,
   "id": "261db548",
   "metadata": {},
   "outputs": [
    {
     "name": "stdout",
     "output_type": "stream",
     "text": [
      "Data testing 1:\n",
      "Training on 5000 samples\n",
      "Testing on 13934 samples\n"
     ]
    },
    {
     "name": "stderr",
     "output_type": "stream",
     "text": [
      "/opt/anaconda3/envs/alibidetect/lib/python3.10/site-packages/sklearn/utils/validation.py:2739: UserWarning: X does not have valid feature names, but LocalOutlierFactor was fitted with feature names\n",
      "  warnings.warn(\n",
      "/opt/anaconda3/envs/alibidetect/lib/python3.10/site-packages/sklearn/utils/validation.py:2739: UserWarning: X does not have valid feature names, but LocalOutlierFactor was fitted with feature names\n",
      "  warnings.warn(\n"
     ]
    },
    {
     "name": "stdout",
     "output_type": "stream",
     "text": [
      "Precision: 0.756, Recall: 0.675, F1-score: 0.713\n",
      "Time execution: 0.1974\n",
      "First iteration - no previous model to compare\n",
      "--------------------------------------------------------------------------------\n",
      "\n",
      "Data testing 2:\n",
      "Training on 5000 samples\n",
      "Testing on 13932 samples\n",
      "Precision: 0.758, Recall: 0.686, F1-score: 0.720\n",
      "Time execution: 0.1925\n",
      "\n",
      "--- McNemar Test Analysis ---\n"
     ]
    },
    {
     "name": "stderr",
     "output_type": "stream",
     "text": [
      "/var/folders/88/psn_rp490gg_sfbw5c2mx3dh0000gn/T/ipykernel_56856/3600667408.py:37: UserWarning: Boolean Series key will be reindexed to match DataFrame index.\n",
      "  both_anomaly = len(current_results[\n",
      "/var/folders/88/psn_rp490gg_sfbw5c2mx3dh0000gn/T/ipykernel_56856/3600667408.py:42: UserWarning: Boolean Series key will be reindexed to match DataFrame index.\n",
      "  curr_anom_prev_norm = len(current_results[\n",
      "/var/folders/88/psn_rp490gg_sfbw5c2mx3dh0000gn/T/ipykernel_56856/3600667408.py:47: UserWarning: Boolean Series key will be reindexed to match DataFrame index.\n",
      "  curr_norm_prev_anom = len(current_results[\n",
      "/var/folders/88/psn_rp490gg_sfbw5c2mx3dh0000gn/T/ipykernel_56856/3600667408.py:52: UserWarning: Boolean Series key will be reindexed to match DataFrame index.\n",
      "  both_normal = len(current_results[\n",
      "/opt/anaconda3/envs/alibidetect/lib/python3.10/site-packages/sklearn/utils/validation.py:2739: UserWarning: X does not have valid feature names, but LocalOutlierFactor was fitted with feature names\n",
      "  warnings.warn(\n"
     ]
    },
    {
     "name": "stdout",
     "output_type": "stream",
     "text": [
      "Agreement - Both anomaly: 2824\n",
      "Agreement - Both normal: 4232\n",
      "Disagreement - Current anomaly, Previous normal: 3482\n",
      "Disagreement - Current normal, Previous anomaly: 3394\n",
      "Total disagreements: 6876\n",
      "Agreement rate: 0.506\n",
      "McNemar Table:\n",
      "                Previous Model\n",
      "               Anomaly  Normal\n",
      "Current Anomaly   2824    3482\n",
      "        Normal    3394    4232\n",
      "McNemar Statistic: 1.1008\n",
      "McNemar p-value: 0.2940938195316879\n",
      "No significant difference between models (p >= 0.05)\n",
      "--------------------------------------------------------------------------------\n",
      "\n",
      "Data testing 3:\n",
      "Training on 5000 samples\n",
      "Testing on 13932 samples\n",
      "Precision: 0.746, Recall: 0.660, F1-score: 0.701\n",
      "Time execution: 0.1948\n",
      "\n",
      "--- McNemar Test Analysis ---\n",
      "Agreement - Both anomaly: 2691\n",
      "Agreement - Both normal: 4152\n",
      "Disagreement - Current anomaly, Previous normal: 3474\n",
      "Disagreement - Current normal, Previous anomaly: 3615\n",
      "Total disagreements: 7089\n",
      "Agreement rate: 0.491\n",
      "McNemar Table:\n",
      "                Previous Model\n",
      "               Anomaly  Normal\n",
      "Current Anomaly   2691    3474\n",
      "        Normal    3615    4152\n",
      "McNemar Statistic: 2.7648\n",
      "McNemar p-value: 0.09635590238516606\n",
      "No significant difference between models (p >= 0.05)\n",
      "--------------------------------------------------------------------------------\n",
      "\n",
      "Data testing 4:\n",
      "Training on 5000 samples\n",
      "Testing on 13932 samples\n",
      "Precision: 0.754, Recall: 0.677, F1-score: 0.714\n",
      "Time execution: 0.2016\n",
      "\n",
      "--- McNemar Test Analysis ---\n"
     ]
    },
    {
     "name": "stderr",
     "output_type": "stream",
     "text": [
      "/opt/anaconda3/envs/alibidetect/lib/python3.10/site-packages/sklearn/utils/validation.py:2739: UserWarning: X does not have valid feature names, but LocalOutlierFactor was fitted with feature names\n",
      "  warnings.warn(\n"
     ]
    },
    {
     "name": "stdout",
     "output_type": "stream",
     "text": [
      "Agreement - Both anomaly: 2737\n",
      "Agreement - Both normal: 4249\n",
      "Disagreement - Current anomaly, Previous normal: 3518\n",
      "Disagreement - Current normal, Previous anomaly: 3428\n",
      "Total disagreements: 6946\n",
      "Agreement rate: 0.501\n",
      "McNemar Table:\n",
      "                Previous Model\n",
      "               Anomaly  Normal\n",
      "Current Anomaly   2737    3518\n",
      "        Normal    3428    4249\n",
      "McNemar Statistic: 1.1404\n",
      "McNemar p-value: 0.28557446295299777\n",
      "No significant difference between models (p >= 0.05)\n",
      "--------------------------------------------------------------------------------\n",
      "\n",
      "Data testing 5:\n",
      "Training on 5000 samples\n",
      "Testing on 13932 samples\n"
     ]
    },
    {
     "name": "stderr",
     "output_type": "stream",
     "text": [
      "/opt/anaconda3/envs/alibidetect/lib/python3.10/site-packages/sklearn/utils/validation.py:2739: UserWarning: X does not have valid feature names, but LocalOutlierFactor was fitted with feature names\n",
      "  warnings.warn(\n"
     ]
    },
    {
     "name": "stdout",
     "output_type": "stream",
     "text": [
      "Precision: 0.745, Recall: 0.676, F1-score: 0.709\n",
      "Time execution: 0.2224\n",
      "\n",
      "--- McNemar Test Analysis ---\n",
      "Agreement - Both anomaly: 2819\n",
      "Agreement - Both normal: 4178\n",
      "Disagreement - Current anomaly, Previous normal: 3499\n",
      "Disagreement - Current normal, Previous anomaly: 3436\n",
      "Total disagreements: 6935\n",
      "Agreement rate: 0.502\n",
      "McNemar Table:\n",
      "                Previous Model\n",
      "               Anomaly  Normal\n",
      "Current Anomaly   2819    3499\n",
      "        Normal    3436    4178\n",
      "McNemar Statistic: 0.5543\n",
      "McNemar p-value: 0.45657014864176715\n",
      "No significant difference between models (p >= 0.05)\n",
      "--------------------------------------------------------------------------------\n",
      "\n",
      "Data testing 6:\n",
      "Training on 5000 samples\n",
      "Testing on 13932 samples\n"
     ]
    },
    {
     "name": "stderr",
     "output_type": "stream",
     "text": [
      "/opt/anaconda3/envs/alibidetect/lib/python3.10/site-packages/sklearn/utils/validation.py:2739: UserWarning: X does not have valid feature names, but LocalOutlierFactor was fitted with feature names\n",
      "  warnings.warn(\n"
     ]
    },
    {
     "name": "stdout",
     "output_type": "stream",
     "text": [
      "Precision: 0.754, Recall: 0.678, F1-score: 0.714\n",
      "Time execution: 0.1987\n",
      "\n",
      "--- McNemar Test Analysis ---\n",
      "Agreement - Both anomaly: 2826\n",
      "Agreement - Both normal: 4175\n",
      "Disagreement - Current anomaly, Previous normal: 3439\n",
      "Disagreement - Current normal, Previous anomaly: 3492\n",
      "Total disagreements: 6931\n",
      "Agreement rate: 0.503\n",
      "McNemar Table:\n",
      "                Previous Model\n",
      "               Anomaly  Normal\n",
      "Current Anomaly   2826    3439\n",
      "        Normal    3492    4175\n",
      "McNemar Statistic: 0.3901\n",
      "McNemar p-value: 0.5322303960330648\n",
      "No significant difference between models (p >= 0.05)\n",
      "--------------------------------------------------------------------------------\n",
      "\n",
      "Data testing 7:\n",
      "Training on 5000 samples\n",
      "Testing on 13932 samples\n"
     ]
    },
    {
     "name": "stderr",
     "output_type": "stream",
     "text": [
      "/opt/anaconda3/envs/alibidetect/lib/python3.10/site-packages/sklearn/utils/validation.py:2739: UserWarning: X does not have valid feature names, but LocalOutlierFactor was fitted with feature names\n",
      "  warnings.warn(\n"
     ]
    },
    {
     "name": "stdout",
     "output_type": "stream",
     "text": [
      "Precision: 0.758, Recall: 0.687, F1-score: 0.721\n",
      "Time execution: 0.1994\n",
      "\n",
      "--- McNemar Test Analysis ---\n",
      "Agreement - Both anomaly: 2871\n",
      "Agreement - Both normal: 4228\n",
      "Disagreement - Current anomaly, Previous normal: 3439\n",
      "Disagreement - Current normal, Previous anomaly: 3394\n",
      "Total disagreements: 6833\n",
      "Agreement rate: 0.510\n",
      "McNemar Table:\n",
      "                Previous Model\n",
      "               Anomaly  Normal\n",
      "Current Anomaly   2871    3439\n",
      "        Normal    3394    4228\n",
      "McNemar Statistic: 0.2833\n",
      "McNemar p-value: 0.5945262954330575\n",
      "No significant difference between models (p >= 0.05)\n",
      "--------------------------------------------------------------------------------\n",
      "\n",
      "Data testing 8:\n",
      "Training on 5000 samples\n",
      "Testing on 13932 samples\n",
      "Precision: 0.754, Recall: 0.671, F1-score: 0.710\n",
      "Time execution: 0.1907\n",
      "\n",
      "--- McNemar Test Analysis ---\n",
      "Agreement - Both anomaly: 2768\n",
      "Agreement - Both normal: 4190\n",
      "Disagreement - Current anomaly, Previous normal: 3432\n",
      "Disagreement - Current normal, Previous anomaly: 3542\n",
      "Total disagreements: 6974\n",
      "Agreement rate: 0.499\n",
      "McNemar Table:\n",
      "                Previous Model\n",
      "               Anomaly  Normal\n",
      "Current Anomaly   2768    3432\n",
      "        Normal    3542    4190\n",
      "McNemar Statistic: 1.7036\n",
      "McNemar p-value: 0.19181609761706933\n",
      "No significant difference between models (p >= 0.05)\n",
      "--------------------------------------------------------------------------------\n",
      "\n",
      "Data testing 9:\n",
      "Training on 5000 samples\n"
     ]
    },
    {
     "name": "stderr",
     "output_type": "stream",
     "text": [
      "/opt/anaconda3/envs/alibidetect/lib/python3.10/site-packages/sklearn/utils/validation.py:2739: UserWarning: X does not have valid feature names, but LocalOutlierFactor was fitted with feature names\n",
      "  warnings.warn(\n",
      "/opt/anaconda3/envs/alibidetect/lib/python3.10/site-packages/sklearn/utils/validation.py:2739: UserWarning: X does not have valid feature names, but LocalOutlierFactor was fitted with feature names\n",
      "  warnings.warn(\n"
     ]
    },
    {
     "name": "stdout",
     "output_type": "stream",
     "text": [
      "Testing on 13932 samples\n",
      "Precision: 0.758, Recall: 0.668, F1-score: 0.710\n",
      "Time execution: 0.1918\n",
      "\n",
      "--- McNemar Test Analysis ---\n",
      "Agreement - Both anomaly: 2710\n",
      "Agreement - Both normal: 4308\n",
      "Disagreement - Current anomaly, Previous normal: 3424\n",
      "Disagreement - Current normal, Previous anomaly: 3490\n",
      "Total disagreements: 6914\n",
      "Agreement rate: 0.504\n",
      "McNemar Table:\n",
      "                Previous Model\n",
      "               Anomaly  Normal\n",
      "Current Anomaly   2710    3424\n",
      "        Normal    3490    4308\n",
      "McNemar Statistic: 0.6111\n",
      "McNemar p-value: 0.4343818478086552\n",
      "No significant difference between models (p >= 0.05)\n",
      "--------------------------------------------------------------------------------\n",
      "\n",
      "Data testing 10:\n",
      "Training on 5000 samples\n",
      "Testing on 13932 samples\n",
      "Precision: 0.756, Recall: 0.683, F1-score: 0.718\n",
      "Time execution: 0.1897\n",
      "\n",
      "--- McNemar Test Analysis ---\n",
      "Agreement - Both anomaly: 2787\n",
      "Agreement - Both normal: 4292\n",
      "Disagreement - Current anomaly, Previous normal: 3506\n",
      "Disagreement - Current normal, Previous anomaly: 3347\n",
      "Total disagreements: 6853\n",
      "Agreement rate: 0.508\n",
      "McNemar Table:\n",
      "                Previous Model\n",
      "               Anomaly  Normal\n",
      "Current Anomaly   2787    3506\n",
      "        Normal    3347    4292\n",
      "McNemar Statistic: 3.6428\n",
      "McNemar p-value: 0.05631268982011221\n",
      "No significant difference between models (p >= 0.05)\n",
      "--------------------------------------------------------------------------------\n",
      "\n",
      "Model retraining and comparison completed!\n"
     ]
    },
    {
     "name": "stderr",
     "output_type": "stream",
     "text": [
      "/opt/anaconda3/envs/alibidetect/lib/python3.10/site-packages/sklearn/utils/validation.py:2739: UserWarning: X does not have valid feature names, but LocalOutlierFactor was fitted with feature names\n",
      "  warnings.warn(\n"
     ]
    }
   ],
   "source": [
    "from statsmodels.stats.contingency_tables import mcnemar\n",
    "import numpy as np\n",
    "import pandas as pd\n",
    "from sklearn.svm import OneClassSVM\n",
    "import joblib\n",
    "\n",
    "previous_results = None\n",
    "\n",
    "for i in range(10):\n",
    "    print(f'Data testing {i+1}:')\n",
    "    \n",
    "    training_data = train_chunks[i][train_chunks[i]['label'] == 1].copy()\n",
    "    print(f\"Training on {len(training_data)} samples\")\n",
    "    \n",
    "    # lof = LocalOutlierFactor(n_neighbors=30, algorithm='auto', leaf_size=30, contamination=0.2, novelty=True)\n",
    "    # X_train = training_data.drop('label', axis=1)\n",
    "    # lof.fit(X_train)\n",
    "    # joblib.dump(lof, f'lofretrain{i+1}.joblib')\n",
    "    \n",
    "    iso = joblib.load(f'lofretrain{i+1}.joblib')\n",
    "    \n",
    "    test_data = test_chunks[i].copy()\n",
    "    print(f\"Testing on {len(test_data)} samples\")\n",
    "    \n",
    "    start = time.time()\n",
    "    current_results, recall_2, precision_2, f1_2 = test_model(lof, test_data)\n",
    "    end = time.time()\n",
    "    elapsed = end-start\n",
    "    print(f\"Precision: {precision_2:.3f}, Recall: {recall_2:.3f}, F1-score: {f1_2:.3f}\")\n",
    "    print(f\"Time execution: {elapsed:.4f}\")\n",
    "\n",
    "    \n",
    "    if previous_results is not None:\n",
    "        print(\"\\n--- McNemar Test Analysis ---\")\n",
    "        \n",
    "        if 'outlier' in current_results.columns and 'outlier' in previous_results.columns:\n",
    "            both_anomaly = len(current_results[\n",
    "                (current_results['outlier'] == -1) & \n",
    "                (previous_results['outlier'] == -1)\n",
    "            ])\n",
    "            \n",
    "            curr_anom_prev_norm = len(current_results[\n",
    "                (current_results['outlier'] == -1) & \n",
    "                (previous_results['outlier'] == 1)\n",
    "            ])\n",
    "            \n",
    "            curr_norm_prev_anom = len(current_results[\n",
    "                (current_results['outlier'] == 1) & \n",
    "                (previous_results['outlier'] == -1)\n",
    "            ])\n",
    "            \n",
    "            both_normal = len(current_results[\n",
    "                (current_results['outlier'] == 1) & \n",
    "                (previous_results['outlier'] == 1)\n",
    "            ])\n",
    "            \n",
    "            print(f\"Agreement - Both anomaly: {both_anomaly}\")\n",
    "            print(f\"Agreement - Both normal: {both_normal}\")\n",
    "            print(f\"Disagreement - Current anomaly, Previous normal: {curr_anom_prev_norm}\")\n",
    "            print(f\"Disagreement - Current normal, Previous anomaly: {curr_norm_prev_anom}\")\n",
    "            \n",
    "            total_disagreements = curr_anom_prev_norm + curr_norm_prev_anom\n",
    "            total_samples = both_anomaly + both_normal + total_disagreements\n",
    "            agreement_rate = (both_anomaly + both_normal) / total_samples\n",
    "            \n",
    "            print(f\"Total disagreements: {total_disagreements}\")\n",
    "            print(f\"Agreement rate: {agreement_rate:.3f}\")\n",
    "            \n",
    "            if total_disagreements > 0:\n",
    "                mcnemar_table = np.array([\n",
    "                    [both_anomaly, curr_anom_prev_norm], \n",
    "                    [curr_norm_prev_anom, both_normal]\n",
    "                ])\n",
    "                \n",
    "                print(f\"McNemar Table:\")\n",
    "                print(f\"                Previous Model\")\n",
    "                print(f\"               Anomaly  Normal\")\n",
    "                print(f\"Current Anomaly   {both_anomaly:4d}    {curr_anom_prev_norm:4d}\")\n",
    "                print(f\"        Normal    {curr_norm_prev_anom:4d}    {both_normal:4d}\")\n",
    "                \n",
    "                try:\n",
    "                    result = mcnemar(mcnemar_table, exact=False, correction=True)\n",
    "                    print(f\"McNemar Statistic: {result.statistic:.4f}\")\n",
    "                    print(f\"McNemar p-value: {result.pvalue}\")\n",
    "                    \n",
    "                    if result.pvalue < 0.001:\n",
    "                        print(\"*** Highly significant difference between models (p < 0.001)\")\n",
    "                    elif result.pvalue < 0.01:\n",
    "                        print(\"** Significant difference between models (p < 0.01)\")\n",
    "                    elif result.pvalue < 0.05:\n",
    "                        print(\"* Marginally significant difference between models (p < 0.05)\")\n",
    "                    else:\n",
    "                        print(\"No significant difference between models (p >= 0.05)\")\n",
    "                        \n",
    "                except Exception as e:\n",
    "                    print(f\"Error in McNemar test: {e}\")\n",
    "            else:\n",
    "                print(\"No disagreements between models - McNemar test not applicable\")\n",
    "        else:\n",
    "            print(\"Missing 'outlier' column in results - cannot perform McNemar test\")\n",
    "    elif previous_results is not None:\n",
    "        print(f\"Warning: Result sizes don't match - Current: {len(current_results)}, Previous: {len(previous_results)}\")\n",
    "    else:\n",
    "        print(\"First iteration - no previous model to compare\")\n",
    "    \n",
    "    previous_results = current_results.copy()\n",
    "    \n",
    "    print(\"-\" * 80)\n",
    "    print()\n",
    "\n",
    "print(\"Model retraining and comparison completed!\")"
   ]
  }
 ],
 "metadata": {
  "kernelspec": {
   "display_name": "alibidetect",
   "language": "python",
   "name": "python3"
  },
  "language_info": {
   "codemirror_mode": {
    "name": "ipython",
    "version": 3
   },
   "file_extension": ".py",
   "mimetype": "text/x-python",
   "name": "python",
   "nbconvert_exporter": "python",
   "pygments_lexer": "ipython3",
   "version": "3.10.16"
  }
 },
 "nbformat": 4,
 "nbformat_minor": 5
}
